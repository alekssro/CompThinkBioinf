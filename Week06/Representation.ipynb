{
 "cells": [
  {
   "cell_type": "markdown",
   "metadata": {},
   "source": [
    "# Graphs and their representation\n",
    "\n",
    "Graphs are commonly used data structure, used for representing relationships between various items. There are two common representations for graphs: adjacency lists and adjacency matrices. The first represents graphs as a list per node, containing the node's neighbours; the second represents graphs as a square matrix, with number of columns and number of rows equal to the number of vertices in the graph, with values zero for cells $(i,j)$ if $i$ and $j$ are not connected and $(i,j)$ equal to 1 otherwise. (If we add weights to edges, this value will not necessarily be 1, but we return to that in the exercises).\n",
    "\n",
    "## Adjacency lists\n",
    "\n",
    "One approach to constructing a graph based on adjacency lists could be this:"
   ]
  },
  {
   "cell_type": "code",
   "execution_count": 2,
   "metadata": {
    "collapsed": true
   },
   "outputs": [],
   "source": [
    "def make_list_graph(n_vertices):\n",
    "    return [[] for _ in range(n_vertices)]\n",
    "    \n",
    "def add_list_edge(graph, source, target):\n",
    "    if target not in graph[source]:\n",
    "        graph[source].append(target)"
   ]
  },
  {
   "cell_type": "markdown",
   "metadata": {},
   "source": [
    "You shouldn't use this expression to construct a list of lists\n",
    "\n",
    "```python\n",
    "[[]] * n\n",
    "```\n",
    "\n",
    "Multiplying a list by a number creates a list with the values of the old list repeated that number of times, but the elements we repeat are references to the same elements. This is not a problem with immutable values like numbers, but with lists, it means we get a list of the *same* list, repeated. If we modify one of the entries, we modify them all:"
   ]
  },
  {
   "cell_type": "code",
   "execution_count": 3,
   "metadata": {},
   "outputs": [
    {
     "name": "stdout",
     "output_type": "stream",
     "text": [
      "[[], [], [], [], []]\n",
      "[[1], [1], [1], [1], [1]]\n"
     ]
    }
   ],
   "source": [
    "x = [[]] * 5\n",
    "print(x)\n",
    "x[0].append(1)\n",
    "print(x)"
   ]
  },
  {
   "cell_type": "markdown",
   "metadata": {},
   "source": [
    "By using the list comprehension, we create a new empty list for each vertex in the graph."
   ]
  },
  {
   "cell_type": "code",
   "execution_count": 4,
   "metadata": {},
   "outputs": [
    {
     "name": "stdout",
     "output_type": "stream",
     "text": [
      "[[], [], [], [], [], []]\n",
      "[[1], [], [], [], [], []]\n"
     ]
    }
   ],
   "source": [
    "x = [[] for _ in range(6)]\n",
    "print(x)\n",
    "x[0].append(1)\n",
    "print(x)"
   ]
  },
  {
   "cell_type": "markdown",
   "metadata": {},
   "source": [
    "We can construct an example graph like this:"
   ]
  },
  {
   "cell_type": "code",
   "execution_count": 5,
   "metadata": {},
   "outputs": [
    {
     "name": "stdout",
     "output_type": "stream",
     "text": [
      "[[1, 5], [2, 3], [4], [5], [], [1]]\n"
     ]
    }
   ],
   "source": [
    "g = make_list_graph(6)\n",
    "\n",
    "add_list_edge(g, 0, 1)\n",
    "add_list_edge(g, 0, 5)\n",
    "add_list_edge(g, 1, 2)\n",
    "add_list_edge(g, 1, 3)\n",
    "add_list_edge(g, 2, 4)\n",
    "add_list_edge(g, 3, 5)\n",
    "add_list_edge(g, 5, 1)\n",
    "\n",
    "print(g)"
   ]
  },
  {
   "cell_type": "markdown",
   "metadata": {},
   "source": [
    "## Adjacency matrices\n",
    "\n",
    "Adjacency lists make it easy to find out the degrees of each node and for traversing graphs, and if the graph is sparse, this representation is more memory efficient. Adjacency matrices, on the other hand, makes it constant time operations to check for the existance of edges and for inserting and removing edges. For adjacancy matrices, we can use the following functions:"
   ]
  },
  {
   "cell_type": "code",
   "execution_count": 6,
   "metadata": {
    "collapsed": true
   },
   "outputs": [],
   "source": [
    "import numpy as np\n",
    "\n",
    "def make_matrix_graph(n_vertices):\n",
    "    return np.zeros(shape = (n_vertices, n_vertices), dtype=int)\n",
    "\n",
    "def add_matrix_edge(graph, i, j):\n",
    "    graph[i,j] = 1"
   ]
  },
  {
   "cell_type": "code",
   "execution_count": 7,
   "metadata": {
    "scrolled": true
   },
   "outputs": [
    {
     "name": "stdout",
     "output_type": "stream",
     "text": [
      "[[0 1 0 0 0 1]\n",
      " [0 0 1 1 0 0]\n",
      " [0 0 0 0 1 0]\n",
      " [0 0 0 0 0 1]\n",
      " [0 0 0 0 0 0]\n",
      " [0 1 0 0 0 0]]\n"
     ]
    }
   ],
   "source": [
    "mg = make_matrix_graph(6)\n",
    "\n",
    "add_matrix_edge(mg, 0, 1)\n",
    "add_matrix_edge(mg, 0, 5)\n",
    "add_matrix_edge(mg, 1, 2)\n",
    "add_matrix_edge(mg, 1, 3)\n",
    "add_matrix_edge(mg, 2, 4)\n",
    "add_matrix_edge(mg, 3, 5)\n",
    "add_matrix_edge(mg, 5, 1)\n",
    "\n",
    "print(mg)"
   ]
  },
  {
   "cell_type": "markdown",
   "metadata": {},
   "source": [
    "## Converting between representations\n",
    "\n",
    "Since the two different representations have different pros and cons, we sometimes want to convert between them. This is relatively straightforward:"
   ]
  },
  {
   "cell_type": "code",
   "execution_count": 8,
   "metadata": {},
   "outputs": [
    {
     "name": "stdout",
     "output_type": "stream",
     "text": [
      "[[1, 5], [2, 3], [4], [5], [], [1]]\n",
      "[[0 1 0 0 0 1]\n",
      " [0 0 1 1 0 0]\n",
      " [0 0 0 0 1 0]\n",
      " [0 0 0 0 0 1]\n",
      " [0 0 0 0 0 0]\n",
      " [0 1 0 0 0 0]]\n"
     ]
    }
   ],
   "source": [
    "def list_graph_to_matrix_graph(graph):\n",
    "    n = len(graph)\n",
    "    mgraph = make_matrix_graph(n)\n",
    "    for i in range(n):\n",
    "        for j in graph[i]:\n",
    "            mgraph[i,j] = 1\n",
    "    return mgraph\n",
    "\n",
    "def matrix_graph_to_list_graph(graph):\n",
    "    n = graph.shape[0]\n",
    "    return [[neighbour for neighbour,bit in enumerate(graph[i,:]) if bit == 1] for i in range(n)]\n",
    "\n",
    "print(matrix_graph_to_list_graph(mg))\n",
    "print(list_graph_to_matrix_graph(g))"
   ]
  },
  {
   "cell_type": "markdown",
   "metadata": {},
   "source": [
    "## Directed and undirected graphs\n",
    "\n",
    "The implementations above assume that the edges in the graphs are orientated, that means that the existance of an edge $(v,w)$ does not imply the existance of $(w,v)$. If this is what you need, you can simply modify the `add_edge` functions to insert the inverse of the indices we insert as well."
   ]
  },
  {
   "cell_type": "code",
   "execution_count": 9,
   "metadata": {
    "collapsed": true
   },
   "outputs": [],
   "source": [
    "def add_undirected_list_edge(graph, source, target):\n",
    "    if target not in graph[source]:\n",
    "        graph[source].append(target)\n",
    "    if source not in graph[target]:\n",
    "        graph[target].append(source)\n",
    "        \n",
    "def add_undirected_matrix_edge(graph, i, j):\n",
    "    graph[i,j] = graph[j,i] = 1"
   ]
  },
  {
   "cell_type": "code",
   "execution_count": 10,
   "metadata": {},
   "outputs": [
    {
     "name": "stdout",
     "output_type": "stream",
     "text": [
      "[[1, 5], [0, 2, 3, 5], [1, 4], [1, 5], [2], [0, 3, 1]]\n"
     ]
    }
   ],
   "source": [
    "ug = make_list_graph(6)\n",
    "\n",
    "add_undirected_list_edge(ug, 0, 1)\n",
    "add_undirected_list_edge(ug, 0, 5)\n",
    "add_undirected_list_edge(ug, 1, 2)\n",
    "add_undirected_list_edge(ug, 1, 3)\n",
    "add_undirected_list_edge(ug, 2, 4)\n",
    "add_undirected_list_edge(ug, 3, 5)\n",
    "add_undirected_list_edge(ug, 5, 1)\n",
    "\n",
    "print(ug)"
   ]
  },
  {
   "cell_type": "code",
   "execution_count": 11,
   "metadata": {},
   "outputs": [
    {
     "name": "stdout",
     "output_type": "stream",
     "text": [
      "[[0 1 0 0 0 1]\n",
      " [1 0 1 1 0 1]\n",
      " [0 1 0 0 1 0]\n",
      " [0 1 0 0 0 1]\n",
      " [0 0 1 0 0 0]\n",
      " [1 1 0 1 0 0]]\n"
     ]
    }
   ],
   "source": [
    "umg = make_matrix_graph(6)\n",
    "\n",
    "add_undirected_matrix_edge(umg, 0, 1)\n",
    "add_undirected_matrix_edge(umg, 0, 5)\n",
    "add_undirected_matrix_edge(umg, 1, 2)\n",
    "add_undirected_matrix_edge(umg, 1, 3)\n",
    "add_undirected_matrix_edge(umg, 2, 4)\n",
    "add_undirected_matrix_edge(umg, 3, 5)\n",
    "add_undirected_matrix_edge(umg, 5, 1)\n",
    "\n",
    "print(umg)"
   ]
  },
  {
   "cell_type": "markdown",
   "metadata": {},
   "source": [
    "## Exercise\n",
    "\n",
    "Construct the graphs below in both their list and matrix representations. Notice that the last one is undirected.\n",
    "\n",
    "![](figures/exercise-graphs.png)"
   ]
  },
  {
   "cell_type": "code",
   "execution_count": 14,
   "metadata": {},
   "outputs": [
    {
     "name": "stdout",
     "output_type": "stream",
     "text": [
      "[[1], [2], [0]]\n",
      "[[0 1 0]\n",
      " [0 0 1]\n",
      " [1 0 0]]\n",
      "[[1], [2, 4], [3, 6], [8], [5, 7], [8], [8], [8], []]\n",
      "[[0 0 0 0 0 0 0 0 0]\n",
      " [0 1 0 0 0 0 0 0 0]\n",
      " [0 0 1 0 0 0 0 0 0]\n",
      " [0 0 0 0 0 0 0 0 0]\n",
      " [0 0 0 0 0 0 0 0 0]\n",
      " [0 0 0 0 0 0 0 0 0]\n",
      " [0 0 0 0 0 0 0 0 0]\n",
      " [0 0 0 0 0 0 0 0 0]\n",
      " [0 0 0 0 0 0 0 0 0]]\n"
     ]
    }
   ],
   "source": [
    "#Graph 1\n",
    "g1 = make_list_graph(3)\n",
    "add_list_edge(g1, 0, 1)\n",
    "add_list_edge(g1, 1, 2)\n",
    "add_list_edge(g1, 2, 0)\n",
    "print(g1)\n",
    "\n",
    "mg1 = make_matrix_graph(3)\n",
    "add_matrix_edge(mg1, 0, 1)\n",
    "add_matrix_edge(mg1, 1, 2)\n",
    "add_matrix_edge(mg1, 2, 0)\n",
    "print(mg1)\n",
    "\n",
    "#Graph 2\n",
    "g2 = make_list_graph(9)\n",
    "add_list_edge(g2, 0, 1)\n",
    "add_list_edge(g2, 1, 2)\n",
    "add_list_edge(g2, 1, 4)\n",
    "add_list_edge(g2, 2, 3)\n",
    "add_list_edge(g2, 2, 6)\n",
    "add_list_edge(g2, 4, 5)\n",
    "add_list_edge(g2, 4, 7)\n",
    "add_list_edge(g2, 3, 8)\n",
    "add_list_edge(g2, 6, 8)\n",
    "add_list_edge(g2, 5, 8)\n",
    "add_list_edge(g2, 7, 8)\n",
    "print(g2)\n",
    "\n",
    "mg2 = make_matrix_graph(9)\n",
    "add_matrix_edge(mg2, 1, 1)\n",
    "add_matrix_edge(mg2, 2, 2)\n",
    "print(mg2)"
   ]
  }
 ],
 "metadata": {
  "kernelspec": {
   "display_name": "Python 3",
   "language": "python",
   "name": "python3"
  },
  "language_info": {
   "codemirror_mode": {
    "name": "ipython",
    "version": 3
   },
   "file_extension": ".py",
   "mimetype": "text/x-python",
   "name": "python",
   "nbconvert_exporter": "python",
   "pygments_lexer": "ipython3",
   "version": "3.6.1"
  }
 },
 "nbformat": 4,
 "nbformat_minor": 2
}
