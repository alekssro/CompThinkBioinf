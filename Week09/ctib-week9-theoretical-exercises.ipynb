{
 "cells": [
  {
   "cell_type": "markdown",
   "metadata": {},
   "source": [
    "# CTiB - Week 9 - Theoretical Exercises"
   ]
  },
  {
   "cell_type": "markdown",
   "metadata": {},
   "source": [
    "## Hidden Markov Models\n",
    "\n",
    "Questions to slides *Hidden Markov Models - Terminology, Representation and Basic Problems*:\n",
    "\n",
    "* How much time does it take to compute the joint probability $P({\\bf X}, {\\bf Z})$ in terms of $N$ and $K$? each \n",
    "\n",
    "wrt. N, k --> O(N)\n",
    "\n",
    "* How many terms are there in the sum on slide 31 for computing $P({\\bf X}|\\Theta)$? Does the sum yield an efficient algorithm?\n",
    "\n",
    "We have N zs and we have k possible states in each z so --> K^N\n",
    "\n",
    "* How many terms are there in the maximization on slide 34 for computing the Viterbi decoding ${\\bf Z}^*$?\n",
    "\n",
    "Same as second question --> K^N\n",
    "\n",
    "* How many terms are there in the maximixation on slide 34 for computing ${\\bf z}^*_n$, i.e. the *n*th state in a posterior decoding?\n",
    "\n",
    "So we are taking into account z in the n'th step so we only have k terms of possible states."
   ]
  }
 ],
 "metadata": {
  "kernelspec": {
   "display_name": "Python 3",
   "language": "python",
   "name": "python3"
  },
  "language_info": {
   "codemirror_mode": {
    "name": "ipython",
    "version": 3
   },
   "file_extension": ".py",
   "mimetype": "text/x-python",
   "name": "python",
   "nbconvert_exporter": "python",
   "pygments_lexer": "ipython3",
   "version": "3.6.3"
  }
 },
 "nbformat": 4,
 "nbformat_minor": 2
}
