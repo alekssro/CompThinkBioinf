{
 "cells": [
  {
   "cell_type": "markdown",
   "metadata": {},
   "source": [
    "# CTiB - Week 11 - Theoretical Exercises"
   ]
  },
  {
   "cell_type": "markdown",
   "metadata": {},
   "source": [
    "Questions to slides *Hidden Markov Models - Algorithms for decoding*:\n",
    "\n",
    "* Where in the derivation of $\\alpha({\\bf z}_n$) on slide 19 do we use that the fact that we are working with hidden Markov models?\n",
    "\n",
    "* Explain why filling out the $\\alpha$-table cf. the recursion on slide 23 takes time O($NK^2$) when using dynamic programming.\n",
    "\n",
    "* Expand the pseudo code on slide 23 to pseudo code for filling out the entire $\\alpha$-table, and not just a single entry.\n",
    "\n",
    "* Explain why $p({\\bf X}) = \\sum_{{\\bf z}_n} \\alpha({\\bf z}_N)$  , i.e. the sum of the entries in the rightmost coloum of the $\\alpha$-table, as claimed on slide 34."
   ]
  },
  {
   "cell_type": "code",
   "execution_count": null,
   "metadata": {
    "collapsed": true
   },
   "outputs": [],
   "source": []
  }
 ],
 "metadata": {
  "kernelspec": {
   "display_name": "Python 3",
   "language": "python",
   "name": "python3"
  },
  "language_info": {
   "codemirror_mode": {
    "name": "ipython",
    "version": 3
   },
   "file_extension": ".py",
   "mimetype": "text/x-python",
   "name": "python",
   "nbconvert_exporter": "python",
   "pygments_lexer": "ipython3",
   "version": "3.6.3"
  }
 },
 "nbformat": 4,
 "nbformat_minor": 2
}
