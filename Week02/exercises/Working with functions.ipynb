{
 "cells": [
  {
   "cell_type": "markdown",
   "metadata": {},
   "source": [
    "# Working with functions\n",
    "\n",
    "Chapter 4 of JVG describes how to define functions. This Notebook will assume that you have read this chapter and give you some exercises to test your knowledge.\n",
    "\n"
   ]
  },
  {
   "cell_type": "markdown",
   "metadata": {},
   "source": [
    "Syntax"
   ]
  },
  {
   "cell_type": "code",
   "execution_count": 3,
   "metadata": {},
   "outputs": [
    {
     "name": "stdout",
     "output_type": "stream",
     "text": [
      "Help on function functionname in module __main__:\n",
      "\n",
      "functionname(parameters)\n",
      "    function_docstring\n",
      "\n"
     ]
    }
   ],
   "source": [
    "def functionname( parameters ):\n",
    "   \"function_docstring\"\n",
    "   function_suite\n",
    "   return [expression]\n",
    "\n",
    "help(functionname)"
   ]
  },
  {
   "cell_type": "markdown",
   "metadata": {},
   "source": [
    "## Exercise 1\n",
    "\n",
    "Write a function, `isIn`, that, given two strings as input, returns `True` if one is a substring of the other.\n",
    "\n",
    "You can check if a string is a subset of another using the `in` operator:"
   ]
  },
  {
   "cell_type": "code",
   "execution_count": 4,
   "metadata": {},
   "outputs": [
    {
     "name": "stdout",
     "output_type": "stream",
     "text": [
      "x is in y: True\n",
      "y is in x: False\n"
     ]
    }
   ],
   "source": [
    "x = 'foo'\n",
    "y = 'foobar'\n",
    "print('x is in y:', x in y)\n",
    "print('y is in x:', y in x)"
   ]
  },
  {
   "cell_type": "code",
   "execution_count": 7,
   "metadata": {},
   "outputs": [
    {
     "name": "stdout",
     "output_type": "stream",
     "text": [
      "x is in y: True\n",
      "y is in x: False\n"
     ]
    }
   ],
   "source": [
    "def isIn(x, y):\n",
    "    return x in y\n",
    "\n",
    "print('x is in y:', isIn(x, y))\n",
    "print('y is in x:', isIn(y, x))"
   ]
  },
  {
   "cell_type": "markdown",
   "metadata": {},
   "source": [
    "Remember that you need to explicitly `return` a value. If you do not use the `return` keyword, the result of a function call will be `None`."
   ]
  },
  {
   "cell_type": "markdown",
   "metadata": {},
   "source": [
    "## Exercise 2\n",
    "\n",
    "Write a function that takes as arguments a list, `x`, and two numbers, `lower` and `upper`, and return all elements in the list greater or equal to `lower` and smaller than `upper`."
   ]
  },
  {
   "cell_type": "code",
   "execution_count": 9,
   "metadata": {},
   "outputs": [
    {
     "name": "stdout",
     "output_type": "stream",
     "text": [
      "between(x, 3, 6) should be [3, 4, 5]. What it is, is [3, 4, 5]\n"
     ]
    }
   ],
   "source": [
    "def between(x, lower, upper):\n",
    "    # return elements e from x such that lower <= e < upper\n",
    "    result = []\n",
    "    for e in x:\n",
    "        if lower <= e < upper:\n",
    "            result.append(e)\n",
    "    return result\n",
    "\n",
    "def between(x, lower, upper):\n",
    "    # return elements e from x such that lower <= e < upper\n",
    "    return [e for e in x if lower <= e < upper]\n",
    "\n",
    "x = list(range(10))\n",
    "print(\"between(x, 3, 6) should be [3, 4, 5]. What it is, is\", between(x, 3, 6))"
   ]
  },
  {
   "cell_type": "markdown",
   "metadata": {},
   "source": [
    "## Exercise 3\n",
    "\n",
    "A function can return more than one value. If you put a comma separated list of values after `return` you will return a tuple of values that you can assign to a matching sequence of parameters.\n",
    "\n",
    "The function below, for example, returns two values, `1` and `2`."
   ]
  },
  {
   "cell_type": "code",
   "execution_count": 10,
   "metadata": {},
   "outputs": [
    {
     "name": "stdout",
     "output_type": "stream",
     "text": [
      "(1, 2)\n"
     ]
    }
   ],
   "source": [
    "def f():\n",
    "    return 1, 2\n",
    "\n",
    "both = f()\n",
    "print(both)"
   ]
  },
  {
   "cell_type": "code",
   "execution_count": 11,
   "metadata": {},
   "outputs": [
    {
     "name": "stdout",
     "output_type": "stream",
     "text": [
      "1\n",
      "2\n"
     ]
    }
   ],
   "source": [
    "x, y = f()\n",
    "print(x)\n",
    "print (y)"
   ]
  },
  {
   "cell_type": "markdown",
   "metadata": {},
   "source": [
    "Write a function that takes a list of integers as input and returns two lists, one containing the even elements and one returning the odd elements."
   ]
  },
  {
   "cell_type": "code",
   "execution_count": 13,
   "metadata": {},
   "outputs": [
    {
     "name": "stdout",
     "output_type": "stream",
     "text": [
      "even: [0, 2, 4]\n",
      "odd: [1, 3]\n",
      "even: [0, 2, 4]\n",
      "odd: [1, 3]\n"
     ]
    }
   ],
   "source": [
    "def split_even_odd(x):\n",
    "    even, odd = [], [] # you won't necessarily need this line\n",
    "    # split x into even and odd\n",
    "    for e in x:\n",
    "        if e % 2 == 0:\n",
    "            even.append(e)\n",
    "        else:\n",
    "            odd.append(e)\n",
    "    return even, odd\n",
    "\n",
    "x = list(range(5))\n",
    "even, odd = split_even_odd(x)\n",
    "\n",
    "print(\"even:\", even)\n",
    "print(\"odd:\", odd)\n",
    "\n",
    "#List comprehension\n",
    "\n",
    "def split_even_odd(x):\n",
    "    even = [e for e in x if e % 2 == 0]\n",
    "    odd = [e for e in x if e % 2 != 0]\n",
    "    return even, odd\n",
    "\n",
    "x = list(range(5))\n",
    "even, odd = split_even_odd(x)\n",
    "\n",
    "print(\"even:\", even)\n",
    "print(\"odd:\", odd)"
   ]
  },
  {
   "cell_type": "markdown",
   "metadata": {},
   "source": [
    "## Exercise 4\n",
    "\n",
    "Now implement a function that splits an input list `x` into two lists, those at even *indices* and those at odd *indices*."
   ]
  },
  {
   "cell_type": "code",
   "execution_count": 22,
   "metadata": {},
   "outputs": [
    {
     "name": "stdout",
     "output_type": "stream",
     "text": [
      "[(0, 0), (1, 1), (2, 2), (3, 3), (4, 4)]\n",
      "even: [0, 2, 4]\n",
      "odd: [1, 3]\n"
     ]
    }
   ],
   "source": [
    "def split_even_odd(x):\n",
    "    even, odd = [], [] # you won't necessarily need this line\n",
    "    # split x into even and odd\n",
    "    for index, value in enumerate(x):\n",
    "        if index % 2 == 0:\n",
    "            even.append(value)\n",
    "        else:\n",
    "            odd.append(value)\n",
    "    return even, odd\n",
    "\n",
    "def split_even_odd(x):\n",
    "    even = [value for index, value in enumerate(x) if index % 2 == 0]\n",
    "    odd = [value for index, value in enumerate(x) if index % 2 != 0]\n",
    "    return even, odd\n",
    "\n",
    "x = list(range(5))\n",
    "even, odd = split_even_odd(x)\n",
    "\n",
    "print(list(enumerate(x)))\n",
    "\n",
    "\n",
    "print(\"even:\", even)\n",
    "print(\"odd:\", odd)"
   ]
  },
  {
   "cell_type": "markdown",
   "metadata": {},
   "source": [
    "## Exercise 5\n",
    "\n",
    "Functions are also data, so we can put them in lists and pass them as values to other functions. Write a function that takes a single value as input together with a list of functions, and return a list of all the functions applied to the value. Hint: list comprehension will work great here."
   ]
  },
  {
   "cell_type": "code",
   "execution_count": 24,
   "metadata": {},
   "outputs": [
    {
     "name": "stdout",
     "output_type": "stream",
     "text": [
      "[0.9092974268256817, -0.4161468365471424, -2.185039863261519]\n"
     ]
    }
   ],
   "source": [
    "def apply_functions(x, functions):\n",
    "    # if `functions` is [f, g, h, ...]\n",
    "    # then return [f(x), g(x), h(x), ...]\n",
    "    return [f(x) for f in functions]\n",
    "\n",
    "from math import sin, cos, tan\n",
    "fs = apply_functions(2, [sin, cos, tan])\n",
    "print(fs)"
   ]
  },
  {
   "cell_type": "markdown",
   "metadata": {},
   "source": [
    "## Exercise 6\n",
    "\n",
    "Now write a function that takes a single function as input together with a list of values, and return the function applied to all the values. This function will work exactly like `map` when applied on a single list."
   ]
  },
  {
   "cell_type": "code",
   "execution_count": 26,
   "metadata": {},
   "outputs": [
    {
     "name": "stdout",
     "output_type": "stream",
     "text": [
      "[0.0, 0.8414709848078965, 0.9092974268256817, 0.1411200080598672, -0.7568024953079282]\n"
     ]
    }
   ],
   "source": [
    "def my_map(f, xs):\n",
    "    # if `xs` is [x1, x2, x3, ...]\n",
    "    # then return [f(x1), f(x2), f(x3), ...]\n",
    "    return [f(x) for x in xs]\n",
    "\n",
    "xs = range(5)\n",
    "sin_xs = my_map(sin, xs)\n",
    "print(sin_xs)"
   ]
  }
 ],
 "metadata": {
  "kernelspec": {
   "display_name": "Python 3",
   "language": "python",
   "name": "python3"
  },
  "language_info": {
   "codemirror_mode": {
    "name": "ipython",
    "version": 3
   },
   "file_extension": ".py",
   "mimetype": "text/x-python",
   "name": "python",
   "nbconvert_exporter": "python",
   "pygments_lexer": "ipython3",
   "version": "3.6.1"
  }
 },
 "nbformat": 4,
 "nbformat_minor": 2
}
