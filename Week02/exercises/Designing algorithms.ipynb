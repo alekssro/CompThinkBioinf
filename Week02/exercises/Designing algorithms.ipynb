{
 "cells": [
  {
   "cell_type": "markdown",
   "metadata": {},
   "source": [
    "# Designing algorithms\n",
    "\n"
   ]
  },
  {
   "cell_type": "markdown",
   "metadata": {},
   "source": [
    "In these exercises you get to try to develop some algorithms yourself. Think in terms of invariants and pre- and post-conditions when you develop them."
   ]
  },
  {
   "cell_type": "markdown",
   "metadata": {},
   "source": [
    "## Extract primes\n",
    "\n",
    "For reasons we will not go into, we want to be able to extract all primes from the first `n` integers. We know the smallest is 2, then we have 3 and then 5, and so forth, but say we build a list of all the integers from 2 to `n`, how do we filter away those that are not primes?\n",
    "\n",
    "If we start with the elements `list(range(2,n))`, the first element in the list, 2, is a prime. All those elements `x` in the list where `x % 2 == 0` cannot be primes, so we can get rid of those. If we remove those and 2 we have a new list with 3 at the front. This is also a prime. And all those elements `x` in the new list where `x % 3 == 0` cannot be. We get rid of those and 3. The next element is 5 (because we got rid of 4 earlier when we removed all the values with `x % 2 == 0`). That is also a prime.\n",
    "\n",
    "Think about these properties and come up with invariants that you can use to filter away all the elements that are not primes. Use this to develop an algorithm for extracting the primes from the first `n` algorithms."
   ]
  },
  {
   "cell_type": "code",
   "execution_count": 5,
   "metadata": {},
   "outputs": [
    {
     "name": "stdout",
     "output_type": "stream",
     "text": [
      "[2, 3, 5, 7, 11, 13, 17, 19, 23, 29, 31, 37, 41, 43, 47, 53, 59, 61, 67, 71, 73, 79, 83, 89, 97]\n"
     ]
    }
   ],
   "source": [
    "def eratosthenes(n):\n",
    "    primes = []\n",
    "    candidates = list(range(2, n))\n",
    "\n",
    "    primes = [candidates.pop(0)]\n",
    "\n",
    "    for c in candidates:\n",
    "        for p in primes:\n",
    "            if c % p == 0:\n",
    "                candidates.remove(c)\n",
    "                break\n",
    "        if c % p != 0:\n",
    "            primes.append(c)\n",
    "            candidates.remove(c)\n",
    "            #break\n",
    "\n",
    "    return primes\n",
    "\n",
    "primes = eratosthenes(100)\n",
    "print(primes) # should be [2, 3, 5, 7]\n",
    "\n",
    "#Create a list of consecutive integers from 2 through n: (2, 3, 4, ..., n).\n",
    "#Initially, let p equal 2, the smallest prime number.\n",
    "#Enumerate the multiples of p by counting to n from 2p in increments of p, and mark them \n",
    "    #in the list (these will be 2p, 3p, 4p, ...; the p itself should not be marked).\n",
    "#Find the first number greater than p in the list that is not marked. If there was no such number, stop. \n",
    "    #Otherwise, let p now equal this new number (which is the next prime), and repeat from step 3.\n",
    "#When the algorithm terminates, the numbers remaining not marked in the list are all the primes below n.\n"
   ]
  },
  {
   "cell_type": "markdown",
   "metadata": {},
   "source": [
    "I have called the function `eratosthenes` because the algorithm, if you have done it correctly, is one that is known as the Sieve of Eratosthenes, named after the ancient greek mathematician [Eratosthenes of Cyrene](https://en.wikipedia.org/wiki/Eratosthenes)"
   ]
  },
  {
   "cell_type": "markdown",
   "metadata": {},
   "source": [
    "## Binary numbers\n",
    "\n",
    "Assume that we represent numbers as lists of positions of ones in a binary representation (and sorted positions at that). That is, we would represent numbers as this:\n",
    "\n",
    "Decimal | Binary | List representation\n",
    "--------|--------|------------------\n",
    "0       | 0000   | `[]`\n",
    "1       | 0001   | `[0]`\n",
    "2       | 0010   | `[1]`\n",
    "3       | 0011   | `[0, 1]`\n",
    "4       | 0100   | `[2]`\n",
    "5       | 0101   | `[0, 2]`\n",
    "6       | 0110   | `[1, 2]`\n",
    "7       | 0111   | `[0, 1, 2]`\n",
    "8       | 1000   | `[3]`\n",
    "9       | 1001   | `[0, 3]`\n",
    "10      | 1010   | `[1, 3]`\n",
    "\n",
    "We index the one bits from zero, which makes the translation from this representation into the integer numbers in Python relatively straightforward:"
   ]
  },
  {
   "cell_type": "code",
   "execution_count": 1,
   "metadata": {},
   "outputs": [
    {
     "name": "stdout",
     "output_type": "stream",
     "text": [
      "0\n",
      "1\n",
      "2\n",
      "3\n"
     ]
    }
   ],
   "source": [
    "def binary_to_int(bin_rep):\n",
    "    \"Takes a binary representation and convert it to decimal integer\"\n",
    "    return sum(2**i for i in bin_rep)\n",
    "\n",
    "print(binary_to_int([]))\n",
    "print(binary_to_int([0]))\n",
    "print(binary_to_int([1]))\n",
    "print(binary_to_int([0, 1]))"
   ]
  },
  {
   "cell_type": "markdown",
   "metadata": {},
   "source": [
    "For translating integers to this binary representation, the reverse of the function above, you can consider how you would see if bit 0 should be included or not by taking the modulus two of a number."
   ]
  },
  {
   "cell_type": "code",
   "execution_count": 2,
   "metadata": {},
   "outputs": [
    {
     "name": "stdout",
     "output_type": "stream",
     "text": [
      "For 0 should bit 0 be included? False\n",
      "For 1 should bit 0 be included? True\n",
      "For 2 should bit 0 be included? False\n",
      "For 3 should bit 0 be included? True\n",
      "For 4 should bit 0 be included? False\n"
     ]
    }
   ],
   "source": [
    "for n in range(5):\n",
    "    print('For', n, 'should bit 0 be included?', n % 2 == 1)"
   ]
  },
  {
   "cell_type": "markdown",
   "metadata": {},
   "source": [
    "If we, after checking if bit zero should be included, divide the number by two, we can consider this as if we are moving to bit one, and we can check if this bit should be included by taking modulus 2 again. We need to use integer division, `//`, here, though, to avoid translating the number into a float."
   ]
  },
  {
   "cell_type": "code",
   "execution_count": 3,
   "metadata": {
    "scrolled": true
   },
   "outputs": [
    {
     "name": "stdout",
     "output_type": "stream",
     "text": [
      "[0, 1, 1, 0]\n",
      "[1, 2]\n"
     ]
    }
   ],
   "source": [
    "n = 6\n",
    "bit0 = 1 if n % 2 == 1 else 0\n",
    "bit1 = 1 if (n // 2) % 2 == 1 else 0\n",
    "bit2 = 1 if (n // 2 // 2) % 2 == 1 else 0\n",
    "bit3 = 1 if (n // 2 // 2 // 2) % 2 == 1 else 0\n",
    "bits = [bit0, bit1, bit2, bit3]\n",
    "print(bits)\n",
    "\n",
    "representation = [i for i, b in enumerate(bits) if b]\n",
    "print(representation)"
   ]
  },
  {
   "cell_type": "markdown",
   "metadata": {},
   "source": [
    "You saw the `enumerate` function in the list exercises, but you haven't seen the\n",
    "\n",
    "```python\n",
    "value_true if boolean_expression else value_false\n",
    "```\n",
    "\n",
    "construction before. From the example, can you figure out what this langauge construction does?"
   ]
  },
  {
   "cell_type": "markdown",
   "metadata": {},
   "source": [
    "Construct an algorithm that takes a number `n` as an integer and translate it into this binary representation. One approach you can take here is to keep track of which conceptual index you are working with--initially this will be index 0--and then include it or not based on the modulus test and move one index up while dividing the number by two. If the number becomes zero, you are done.\n",
    "\n",
    "Add invariants and the final parts of the implementation to the function below."
   ]
  },
  {
   "cell_type": "code",
   "execution_count": 5,
   "metadata": {},
   "outputs": [
    {
     "name": "stdout",
     "output_type": "stream",
     "text": [
      "0 [] 0\n",
      "1 [0] 1\n",
      "2 [1] 2\n",
      "3 [0, 1] 3\n",
      "4 [2] 4\n",
      "5 [0, 2] 5\n",
      "6 [1, 2] 6\n",
      "7 [0, 1, 2] 7\n",
      "8 [3] 8\n",
      "9 [0, 3] 9\n",
      "10 [1, 3] 10\n",
      "11 [0, 1, 3] 11\n",
      "12 [2, 3] 12\n",
      "13 [0, 2, 3] 13\n",
      "14 [1, 2, 3] 14\n",
      "15 [0, 1, 2, 3] 15\n",
      "16 [4] 16\n",
      "17 [0, 4] 17\n",
      "18 [1, 4] 18\n",
      "19 [0, 1, 4] 19\n",
      "20 [2, 4] 20\n",
      "21 [0, 2, 4] 21\n",
      "22 [1, 2, 4] 22\n",
      "23 [0, 1, 2, 4] 23\n",
      "24 [3, 4] 24\n",
      "25 [0, 3, 4] 25\n",
      "26 [1, 3, 4] 26\n",
      "27 [0, 1, 3, 4] 27\n",
      "28 [2, 3, 4] 28\n",
      "29 [0, 2, 3, 4] 29\n",
      "30 [1, 2, 3, 4] 30\n",
      "31 [0, 1, 2, 3, 4] 31\n",
      "32 [5] 32\n",
      "33 [0, 5] 33\n",
      "34 [1, 5] 34\n",
      "35 [0, 1, 5] 35\n",
      "36 [2, 5] 36\n",
      "37 [0, 2, 5] 37\n",
      "38 [1, 2, 5] 38\n",
      "39 [0, 1, 2, 5] 39\n",
      "40 [3, 5] 40\n",
      "41 [0, 3, 5] 41\n",
      "42 [1, 3, 5] 42\n",
      "43 [0, 1, 3, 5] 43\n",
      "44 [2, 3, 5] 44\n",
      "45 [0, 2, 3, 5] 45\n",
      "46 [1, 2, 3, 5] 46\n",
      "47 [0, 1, 2, 3, 5] 47\n",
      "48 [4, 5] 48\n",
      "49 [0, 4, 5] 49\n",
      "50 [1, 4, 5] 50\n",
      "51 [0, 1, 4, 5] 51\n",
      "52 [2, 4, 5] 52\n",
      "53 [0, 2, 4, 5] 53\n",
      "54 [1, 2, 4, 5] 54\n",
      "55 [0, 1, 2, 4, 5] 55\n",
      "56 [3, 4, 5] 56\n",
      "57 [0, 3, 4, 5] 57\n",
      "58 [1, 3, 4, 5] 58\n",
      "59 [0, 1, 3, 4, 5] 59\n",
      "60 [2, 3, 4, 5] 60\n",
      "61 [0, 2, 3, 4, 5] 61\n",
      "62 [1, 2, 3, 4, 5] 62\n",
      "63 [0, 1, 2, 3, 4, 5] 63\n",
      "64 [6] 64\n",
      "65 [0, 6] 65\n",
      "66 [1, 6] 66\n",
      "67 [0, 1, 6] 67\n",
      "68 [2, 6] 68\n",
      "69 [0, 2, 6] 69\n",
      "70 [1, 2, 6] 70\n",
      "71 [0, 1, 2, 6] 71\n",
      "72 [3, 6] 72\n",
      "73 [0, 3, 6] 73\n",
      "74 [1, 3, 6] 74\n",
      "75 [0, 1, 3, 6] 75\n",
      "76 [2, 3, 6] 76\n",
      "77 [0, 2, 3, 6] 77\n",
      "78 [1, 2, 3, 6] 78\n",
      "79 [0, 1, 2, 3, 6] 79\n",
      "80 [4, 6] 80\n",
      "81 [0, 4, 6] 81\n",
      "82 [1, 4, 6] 82\n",
      "83 [0, 1, 4, 6] 83\n",
      "84 [2, 4, 6] 84\n",
      "85 [0, 2, 4, 6] 85\n",
      "86 [1, 2, 4, 6] 86\n",
      "87 [0, 1, 2, 4, 6] 87\n",
      "88 [3, 4, 6] 88\n",
      "89 [0, 3, 4, 6] 89\n",
      "90 [1, 3, 4, 6] 90\n",
      "91 [0, 1, 3, 4, 6] 91\n",
      "92 [2, 3, 4, 6] 92\n",
      "93 [0, 2, 3, 4, 6] 93\n",
      "94 [1, 2, 3, 4, 6] 94\n",
      "95 [0, 1, 2, 3, 4, 6] 95\n",
      "96 [5, 6] 96\n",
      "97 [0, 5, 6] 97\n",
      "98 [1, 5, 6] 98\n",
      "99 [0, 1, 5, 6] 99\n"
     ]
    }
   ],
   "source": [
    "def int_to_binary(n):\n",
    "    \"Takes an integer and convert it to its binary representation\"\n",
    "    one_bits = []\n",
    "    while n > 0:\n",
    "        bit = 1 if n % 2 == 1 else 0\n",
    "        n = n // 2\n",
    "        one_bits.append(bit)\n",
    "    # one_bits = list(reversed(one_bits))       #to obtain actual binary numbers\n",
    "    representation = [i for i, b in enumerate(one_bits) if b]\n",
    "    return representation\n",
    "\n",
    "for n in range(100):\n",
    "    print(n, int_to_binary(n), binary_to_int(int_to_binary(n)))"
   ]
  },
  {
   "cell_type": "markdown",
   "metadata": {},
   "source": [
    "## Incrementing binary numbers\n",
    "\n",
    "Incrementing numbers represented as lists as above is an interesting problem. If we want to add 1 to `n` we can consider the first one bit in the representation of `n`. If we do not have index zero set in this representation, we can prepend 0 to the representation and we are done. If it *does* have the zero bit set, we need to remove it--we are adding two one bits together and get `01 + 01 = 10` so we should remove bit zero and instead try and 2 to the result of removing bit zero from `n`. \n",
    "\n",
    "```\n",
    "  0010111\n",
    "+ 0000001\n",
    "= 0010110\n",
    "+ 0000010\n",
    "= 0010100\n",
    "+ 0000100\n",
    "= 0010000\n",
    "+ 0001000\n",
    "= 0011000\n",
    "```\n",
    "\n",
    "We do not want to actually remove elements in the list representation of `n`--this would require us to copy the list repeatedly--but the one bits that should be included in the result of an increment are a suffix of the list, so we want to figure out what that suffix is and prepend the carry bit to that.\n",
    "\n",
    "Come up with invariants and construct an algorithm for the incrementation function."
   ]
  },
  {
   "cell_type": "code",
   "execution_count": 30,
   "metadata": {},
   "outputs": [
    {
     "name": "stdout",
     "output_type": "stream",
     "text": [
      "[]\n",
      "[1]\n",
      "[0, 1]\n",
      "[2]\n",
      "[0, 2]\n",
      "[1, 2]\n",
      "[0, 1, 2]\n",
      "[3]\n",
      "[0, 3]\n",
      "[1, 3]\n",
      "[0, 1, 3]\n",
      "[2, 3]\n",
      "[0, 2, 3]\n",
      "[1, 2, 3]\n",
      "[0, 1, 2, 3]\n",
      "[4]\n",
      "[0, 4]\n",
      "[1, 4]\n",
      "[0, 1, 4]\n",
      "[2, 4]\n",
      "[0, 2, 4]\n",
      "[1, 2, 4]\n",
      "[0, 1, 2, 4]\n",
      "[3, 4]\n",
      "[0, 3, 4]\n",
      "[1, 3, 4]\n",
      "[0, 1, 3, 4]\n",
      "[2, 3, 4]\n",
      "[0, 2, 3, 4]\n",
      "[1, 2, 3, 4]\n",
      "[0, 1, 2, 3, 4]\n",
      "[5]\n",
      "[0, 5]\n",
      "[1, 5]\n",
      "[0, 1, 5]\n",
      "[2, 5]\n",
      "[0, 2, 5]\n",
      "[1, 2, 5]\n",
      "[0, 1, 2, 5]\n",
      "[3, 5]\n",
      "[0, 3, 5]\n",
      "[1, 3, 5]\n",
      "[0, 1, 3, 5]\n",
      "[2, 3, 5]\n",
      "[0, 2, 3, 5]\n",
      "[1, 2, 3, 5]\n",
      "[0, 1, 2, 3, 5]\n",
      "[4, 5]\n",
      "[0, 4, 5]\n"
     ]
    }
   ],
   "source": [
    "def increment_binary(bits):\n",
    "    \"Takes representation of binary numbers and increments it by 1\"\n",
    "    carry, i = 0, 0\n",
    "    # Invariant: carry is the bit we try to carry\n",
    "    # Invariant: i is an index into bits we have as the candidate start for the suffix we should include\n",
    "    while i < len(bits):\n",
    "        if  bits[i] != i:\n",
    "            carry = i\n",
    "            break\n",
    "        else:\n",
    "            i += 1\n",
    "            if i == len(bits):\n",
    "                carry = bits[i-1] + 1\n",
    "    return [carry] + bits[i:]\n",
    "\n",
    "increment_binary(int_to_binary(2))\n",
    "\n",
    "n = int_to_binary(0)\n",
    "for i in range(1, 50):\n",
    "    print(i, \"\\t\", int_to_binary(i), \"\\t\", n, binary_to_int(n))\n",
    "    n = increment_binary(int_to_binary(i))"
   ]
  },
  {
   "cell_type": "markdown",
   "metadata": {},
   "source": [
    "What is the worst-case complexity of increasing a number `n` as a function of `n`?\n",
    "\n",
    "Would you be surprised to learn that it takes $O(n)$ operations to count to `n` this way? That means that the *average* number of instructions for this function, if you increment from 0 to `n`, is in $O(1)$. The worst-case to increment an arbitrary `n` is worse than this."
   ]
  }
 ],
 "metadata": {
  "kernelspec": {
   "display_name": "Python 3",
   "language": "python",
   "name": "python3"
  },
  "language_info": {
   "codemirror_mode": {
    "name": "ipython",
    "version": 3
   },
   "file_extension": ".py",
   "mimetype": "text/x-python",
   "name": "python",
   "nbconvert_exporter": "python",
   "pygments_lexer": "ipython3",
   "version": "3.6.1"
  }
 },
 "nbformat": 4,
 "nbformat_minor": 2
}
