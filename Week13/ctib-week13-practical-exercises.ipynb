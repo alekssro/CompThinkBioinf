{
 "cells": [
  {
   "cell_type": "code",
   "execution_count": 31,
   "metadata": {},
   "outputs": [],
   "source": [
    "import math  # Just ignore this :-)\n",
    "\n",
    "def log(x):\n",
    "    if x == 0:\n",
    "        return float('-inf')\n",
    "    return math.log(x)"
   ]
  },
  {
   "cell_type": "markdown",
   "metadata": {},
   "source": [
    "# CTiB - Week 13 - Practical Exercises"
   ]
  },
  {
   "cell_type": "markdown",
   "metadata": {},
   "source": [
    "In the exercise below, you will implement and experiment with an example of how to apply a HMM for identifying coding regions (genes) in genetic matrial."
   ]
  },
  {
   "cell_type": "markdown",
   "metadata": {},
   "source": [
    "# 1 - Using a HMM for Gene Finding\n",
    "\n",
    "Below we will investigate how to use a hidden Markov model for gene finding in prokaryotes.\n",
    "\n",
    "You are give a data set containing 2 Staphylococcus genomes, each containing several genes (i.e. substrings) obeying the \"gene syntax\" explained in class. The genomes are between 1.8 million and 2.8 million nucleotides.\n",
    "\n",
    "The genomes and their annontations are given in [FASTA format](https://en.wikipedia.org/wiki/FASTA_format)."
   ]
  },
  {
   "cell_type": "code",
   "execution_count": 32,
   "metadata": {},
   "outputs": [],
   "source": [
    "def read_fasta_file(filename):\n",
    "    \"\"\"\n",
    "    Reads the given FASTA file f and returns a dictionary of sequences.\n",
    "\n",
    "    Lines starting with ';' in the FASTA file are ignored.\n",
    "    \"\"\"\n",
    "    sequences_lines = {}\n",
    "    current_sequence_lines = None\n",
    "    with open(filename) as fp:\n",
    "        for line in fp:\n",
    "            line = line.strip()\n",
    "            if line.startswith(';') or not line:\n",
    "                continue\n",
    "            if line.startswith('>'):\n",
    "                sequence_name = line.lstrip('>')\n",
    "                current_sequence_lines = []\n",
    "                sequences_lines[sequence_name] = current_sequence_lines\n",
    "            else:\n",
    "                if current_sequence_lines is not None:\n",
    "                    current_sequence_lines.append(line)\n",
    "    sequences = {}\n",
    "    for name, lines in sequences_lines.items():\n",
    "        sequences[name] = ''.join(lines)\n",
    "    return sequences"
   ]
  },
  {
   "cell_type": "markdown",
   "metadata": {},
   "source": [
    "You can use the function like this (note that reading the entire genome will take some time):"
   ]
  },
  {
   "cell_type": "code",
   "execution_count": 33,
   "metadata": {},
   "outputs": [
    {
     "name": "stdout",
     "output_type": "stream",
     "text": [
      "TTGTTGATATTCTGTTTTTTCTTTTTTAGTTTTCCACATGAAAAATAGTT\n",
      "AATCAAACTTATCCACAAGGTATTTTGCTATTTTTCTGTTGATTCTCTAA\n"
     ]
    }
   ],
   "source": [
    "g1 = read_fasta_file('genome1.fa')\n",
    "print(g1['genome1'][:50])\n",
    "g2 = read_fasta_file('genome2.fa')\n",
    "print(g2['genome2'][:50])"
   ]
  },
  {
   "cell_type": "markdown",
   "metadata": {},
   "source": [
    "The data is:\n",
    "\n",
    "* The files [genome1.fa](https://users-cs.au.dk/cstorm/courses/ML_e17/projects/handin3/genome1.fa) and  [genome2.fa](https://users-cs.au.dk/cstorm/courses/ML_e17/projects/handin3/genome2.fa) contain the 2 genomes.\n",
    "* The files [true-ann1.fa](https://users-cs.au.dk/cstorm/courses/ML_e17/projects/handin3/true-ann1.fa) and [true-ann2.fa](https://users-cs.au.dk/cstorm/courses/ML_e17/projects/handin3/true-ann2.fa) contain the annotation of the two genomes with the tru gene structure. The annotation is given in FASTA format as a sequence over the symbols `N`, `C`, and `R`. The symbol `N`, `C`, or `R` at position $i$ in `true-annk.fa` gives the \"state\" of the nucleotide at position $i$ in `genomek.fa`. `N` means that the nucleotide is non-coding. `C` means that the nucleotide is coding and part of a gene in the direction from left to right. `R` means that the nucleotide is coding and part of gene in the reverse direction from right to left.\n",
    "\n",
    "The annotation files can also be read with `read_fasta_file`.\n",
    "\n",
    "You are given the same 7-state and 3-state HMM that you used before and similar helper functions:"
   ]
  },
  {
   "cell_type": "code",
   "execution_count": 34,
   "metadata": {},
   "outputs": [],
   "source": [
    "class hmm:\n",
    "    def __init__(self, init_probs, trans_probs, emission_probs):\n",
    "        self.init_probs = init_probs\n",
    "        self.trans_probs = trans_probs\n",
    "        self.emission_probs = emission_probs"
   ]
  },
  {
   "cell_type": "code",
   "execution_count": 35,
   "metadata": {},
   "outputs": [],
   "source": [
    "init_probs_7_state = [0.00, 0.00, 0.00, 1.00, 0.00, 0.00, 0.00]\n",
    "\n",
    "trans_probs_7_state = [\n",
    "    [0.00, 0.00, 0.90, 0.10, 0.00, 0.00, 0.00],\n",
    "    [1.00, 0.00, 0.00, 0.00, 0.00, 0.00, 0.00],\n",
    "    [0.00, 1.00, 0.00, 0.00, 0.00, 0.00, 0.00],\n",
    "    [0.00, 0.00, 0.05, 0.90, 0.05, 0.00, 0.00],\n",
    "    [0.00, 0.00, 0.00, 0.00, 0.00, 1.00, 0.00],\n",
    "    [0.00, 0.00, 0.00, 0.00, 0.00, 0.00, 1.00],\n",
    "    [0.00, 0.00, 0.00, 0.10, 0.90, 0.00, 0.00],\n",
    "]\n",
    "\n",
    "emission_probs_7_state = [\n",
    "    #   A     C     G     T\n",
    "    [0.30, 0.25, 0.25, 0.20],\n",
    "    [0.20, 0.35, 0.15, 0.30],\n",
    "    [0.40, 0.15, 0.20, 0.25],\n",
    "    [0.25, 0.25, 0.25, 0.25],\n",
    "    [0.20, 0.40, 0.30, 0.10],\n",
    "    [0.30, 0.20, 0.30, 0.20],\n",
    "    [0.15, 0.30, 0.20, 0.35],\n",
    "]\n",
    "\n",
    "hmm_7_state = hmm(init_probs_7_state, trans_probs_7_state, emission_probs_7_state)"
   ]
  },
  {
   "cell_type": "code",
   "execution_count": 36,
   "metadata": {},
   "outputs": [],
   "source": [
    "init_probs_3_state = [0.00, 0.10, 0.00]\n",
    "\n",
    "trans_probs_3_state = [\n",
    "    [0.90, 0.10, 0.00],\n",
    "    [0.05, 0.90, 0.05],\n",
    "    [0.00, 0.10, 0.90],\n",
    "]\n",
    "\n",
    "emission_probs_3_state = [\n",
    "    #   A     C     G     T\n",
    "    [0.40, 0.15, 0.20, 0.25],\n",
    "    [0.25, 0.25, 0.25, 0.25],\n",
    "    [0.20, 0.40, 0.30, 0.10],\n",
    "]\n",
    "\n",
    "hmm_3_state = hmm(init_probs_3_state, trans_probs_3_state, emission_probs_3_state)"
   ]
  },
  {
   "cell_type": "markdown",
   "metadata": {},
   "source": [
    "Notice that this time the function `translate_indices_to_path` that you have used in previous exervises is a bit different. In the 7-state model the states 0, 1, 2 represent coding (C), state 3 represents non-coding (N) and states 4, 5, 6 represent reverse-coding (R) as explained in class. This translation is done by the function `translate_indices_to_path_7state`. In the 3-state model the state 0 represents coding (C), state 1 represents non-coding (N) and state 2 represents reverse-coding (R) as explained in class. This translation is done by the function `translate_indices_to_path_3state`. "
   ]
  },
  {
   "cell_type": "code",
   "execution_count": 37,
   "metadata": {},
   "outputs": [],
   "source": [
    "def translate_indices_to_path_7state(indices):\n",
    "    mapping = ['C', 'C', 'C', 'N', 'R', 'R', 'R']\n",
    "    return ''.join([mapping[i] for i in indices])\n",
    "\n",
    "def translate_indices_to_path_3state(indices):\n",
    "    mapping = ['C', 'N', 'R']\n",
    "    return ''.join([mapping[i] for i in indices])\n",
    "\n",
    "def translate_observations_to_indices(obs):\n",
    "    mapping = {'a': 0, 'c': 1, 'g': 2, 't': 3}\n",
    "    return [mapping[symbol.lower()] for symbol in obs]\n",
    "\n",
    "def translate_indices_to_observations(indices):\n",
    "    mapping = ['a', 'c', 'g', 't']\n",
    "    return ''.join(mapping[idx] for idx in indices)\n",
    "\n",
    "def translate_path_to_indices_3state(obs):\n",
    "    mapping = {\"C\":0, \"c\":0,\"N\":1, \"n\":1,\"R\": 2,\"r\":2}\n",
    "    return [mapping[symbol.lower()] for symbol in obs]\n",
    "\n",
    "def translate_path_to_indices_7state(obs):\n",
    "    mapping = {\"c\":\"012\", \"n\":\"3\", \"r\":\"456\"}\n",
    "    return [int(s) for s in [mapping[symbol.lower()] for symbol in obs]]\n",
    "\n",
    "def translate_path_to_indices_7state(obs):\n",
    "    lst1 = []\n",
    "    c = 0\n",
    "    r = 4\n",
    "\n",
    "    for j in obs:\n",
    "        if j is \"N\":\n",
    "            lst1.append(3)\n",
    "        if j is \"C\":\n",
    "            lst1.append(c)\n",
    "            if c != 2:\n",
    "                c+=1\n",
    "            else:\n",
    "                c=0\n",
    "        if j is \"R\":\n",
    "            lst1.append(r)\n",
    "            if r != 6:\n",
    "                r+=1\n",
    "            else:\n",
    "                r=4            \n",
    "        \n",
    "    return lst1\n"
   ]
  },
  {
   "cell_type": "code",
   "execution_count": 38,
   "metadata": {},
   "outputs": [],
   "source": [
    "def make_table(m, n):\n",
    "    \"\"\"Make a table with `m` rows and `n` columns filled with zeros.\"\"\"\n",
    "    return [[0] * n for _ in range(m)]\n",
    "\n",
    "#We need a table filled with -inf for log implementation\n",
    "def make_table_log(m, n):\n",
    "    \"\"\"Make a table with `m` rows and `n` columns filled with -inf.\"\"\"\n",
    "    return [[float(\"-inf\")] * n for _ in range(m)]"
   ]
  },
  {
   "cell_type": "markdown",
   "metadata": {},
   "source": [
    "Now insert your Viterbi implementation (log transformed) in the cell below, this means that you should copy `compute_w_log`, `opt_path_prob_log`, `backtrack_log` and any other functions you may have defined yourself for your Viterbi implementation."
   ]
  },
  {
   "cell_type": "code",
   "execution_count": 39,
   "metadata": {},
   "outputs": [],
   "source": [
    "# Your implementations of compute_w_log and opt_path_prob_log from week 10\n",
    "def viterbi_log(model, x):\n",
    "    \"\"\"Function that calculates the optimal path for a sequence of observations and a model\n",
    "        Input: model = hmm class model; x = indices of sequence of observations\n",
    "        Output: z = optimal path of states\"\"\"\n",
    "\n",
    "    K = len(model.init_probs)\n",
    "    N = len(x)\n",
    "\n",
    "    ############# Calculate w matrix #############\n",
    "    w = make_table_log(K, N)\n",
    "\n",
    "    # Base case: fill out w[i][0] for i = 0..k-1\n",
    "    for i in range(K):\n",
    "        w[i][0] = log(model.init_probs[i]) + log(model.emission_probs[i][x[0]])\n",
    "\n",
    "    # Inductive case: fill out w[i][j] for i = 0..k, j = 0..n-1\n",
    "    for j in range(1, N):\n",
    "        for i in range(K):\n",
    "            for t in range(K):\n",
    "                w[i][j] = max(w[i][j], log(model.emission_probs[i][x[j]]) + w[t][j-1] + log(model.trans_probs[t][i]))\n",
    "\n",
    "\n",
    "    ############# Backtracking #############\n",
    "    z = [None] * N\n",
    "    max_ind = None\n",
    "    max_path = float(\"-inf\")\n",
    "\n",
    "    #start with the state with higher probability in last column\n",
    "    for i in range(K-1):\n",
    "        if(max_path < w[i][N-1]):\n",
    "            max_path = max(max_path, w[i][N-1])\n",
    "            z[N-1] = i\n",
    "\n",
    "    #check which state did we come from\n",
    "    for n in range(N-2, -1, -1):\n",
    "        for k in range(K):\n",
    "            if(w[k][n] + log(model.emission_probs[z[n+1]][x[n+1]]) +\n",
    "               log(model.trans_probs[k][z[n+1]])) == w[z[n+1]][n+1]:\n",
    "                z[n] = k\n",
    "                break\n",
    "\n",
    "    return z"
   ]
  },
  {
   "cell_type": "markdown",
   "metadata": {},
   "source": [
    "## Finding genes in a genome"
   ]
  },
  {
   "cell_type": "markdown",
   "metadata": {},
   "source": [
    "Recall from the lecture that both the 7- and 3-state model is useful for prediction of gene structure. In the cells below, use your Viterbi implementation to compute an annotation for genome 1 and 2 using the two models. Save the annotation in a variable (remember to translate the indicies to a path using `translate_indices_to_path`). Feel free to define a function that wraps `compute_w_log` and `backtrack_log` so that you don't have to call both functions each time you want an annotation for a sequence."
   ]
  },
  {
   "cell_type": "code",
   "execution_count": 40,
   "metadata": {},
   "outputs": [],
   "source": [
    "# Your code here for computing the gene structure for genome 1 and 2 using the 7-state model\n",
    "w = compute_w_log(hmm_7_state, translate_observations_to_indices(g1['genome1']))\n",
    "z = backtrack_log(model = hmm_7_state, w = w, x = translate_observations_to_indices(g1[\"genome1\"]))\n",
    "pred_ann1_7state = translate_indices_to_path_7state(z)\n",
    "\n",
    "w = compute_w_log(hmm_7_state, translate_observations_to_indices(g2['genome2']))\n",
    "z = backtrack_log(model = hmm_7_state, w = w, x = translate_observations_to_indices(g2[\"genome2\"]))\n",
    "pred_ann2_7state = translate_indices_to_path_7state(z)"
   ]
  },
  {
   "cell_type": "code",
   "execution_count": 41,
   "metadata": {},
   "outputs": [],
   "source": [
    "#Code for tries"
   ]
  },
  {
   "cell_type": "code",
   "execution_count": 42,
   "metadata": {},
   "outputs": [],
   "source": [
    "# Your code here for computing the gene structure for genome 1 and 2 using the 3-state model\n",
    "w = compute_w_log(hmm_3_state, translate_observations_to_indices(g1['genome1']))\n",
    "z = backtrack_log(model = hmm_3_state, w = w, x = translate_observations_to_indices(g1[\"genome1\"]))\n",
    "pred_ann1_3state = translate_indices_to_path_3state(z)\n",
    "\n",
    "w = compute_w_log(hmm_3_state, translate_observations_to_indices(g2['genome2']))\n",
    "z = backtrack_log(model = hmm_3_state, w = w, x = translate_observations_to_indices(g2[\"genome2\"]))\n",
    "pred_ann2_3state = translate_indices_to_path_3state(z)"
   ]
  },
  {
   "cell_type": "markdown",
   "metadata": {},
   "source": [
    "## Comparing annotations"
   ]
  },
  {
   "cell_type": "markdown",
   "metadata": {},
   "source": [
    "We will now compare the predicted annotations to the true annotations. Read the true annotations (`true-ann1.fa` and `true-ann2.fa`) and use the `compute_accuracy` function given below to compare the predicted annotation to the true annotation."
   ]
  },
  {
   "cell_type": "code",
   "execution_count": 43,
   "metadata": {},
   "outputs": [],
   "source": [
    "def compute_accuracy(true_ann, pred_ann):\n",
    "    if len(true_ann) != len(pred_ann):\n",
    "        return 0.0\n",
    "    return sum(1 if true_ann[i] == pred_ann[i] else 0 \n",
    "               for i in range(len(true_ann))) / len(true_ann)"
   ]
  },
  {
   "cell_type": "markdown",
   "metadata": {},
   "source": [
    "**Question 1:** What is the accuracy of your prediction on genome 1 using the 7-state model?"
   ]
  },
  {
   "cell_type": "code",
   "execution_count": 44,
   "metadata": {},
   "outputs": [
    {
     "name": "stdout",
     "output_type": "stream",
     "text": [
      "0.3919363693634507\n"
     ]
    }
   ],
   "source": [
    "true_ann1_7state = read_fasta_file('true-ann1.fa')\n",
    "true_ann1_7state = true_ann1_7state['true-ann1']\n",
    "print(compute_accuracy(true_ann1_7state, pred_ann1_7state))"
   ]
  },
  {
   "cell_type": "markdown",
   "metadata": {},
   "source": [
    "**Question 2:** What is the accuracy of your prediction on genome 2 using the 7-state model?"
   ]
  },
  {
   "cell_type": "code",
   "execution_count": 45,
   "metadata": {},
   "outputs": [
    {
     "name": "stdout",
     "output_type": "stream",
     "text": [
      "0.37192203428917675\n"
     ]
    }
   ],
   "source": [
    "true_ann2_7state = read_fasta_file('true-ann2.fa')\n",
    "true_ann2_7state = true_ann2_7state['true-ann2']\n",
    "print(compute_accuracy(true_ann2_7state, pred_ann2_7state))"
   ]
  },
  {
   "cell_type": "markdown",
   "metadata": {},
   "source": [
    "**Question 3:** What is the accuracy of your prediction on genome 1 using the 3-state model?"
   ]
  },
  {
   "cell_type": "code",
   "execution_count": 46,
   "metadata": {},
   "outputs": [
    {
     "name": "stdout",
     "output_type": "stream",
     "text": [
      "0.31873349812490653\n"
     ]
    }
   ],
   "source": [
    "true_ann1_3state = read_fasta_file('true-ann1.fa')\n",
    "true_ann1_3state = true_ann1_3state['true-ann1']\n",
    "print(compute_accuracy(true_ann1_3state, pred_ann1_3state))"
   ]
  },
  {
   "cell_type": "markdown",
   "metadata": {},
   "source": [
    "**Question 4:** What is the accuracy of your prediction on genome 2 using the 3-state model?"
   ]
  },
  {
   "cell_type": "code",
   "execution_count": 47,
   "metadata": {},
   "outputs": [
    {
     "name": "stdout",
     "output_type": "stream",
     "text": [
      "0.35088368223162264\n"
     ]
    }
   ],
   "source": [
    "true_ann2_3state = read_fasta_file('true-ann2.fa')\n",
    "true_ann2_3state = true_ann2_3state['true-ann2']\n",
    "print(compute_accuracy(true_ann2_3state, pred_ann2_3state))"
   ]
  },
  {
   "cell_type": "markdown",
   "metadata": {},
   "source": [
    "## Training a model"
   ]
  },
  {
   "cell_type": "markdown",
   "metadata": {},
   "source": [
    "Above, we used the stock `hmm_7_state` and `hmm_3_state` for prediction. In a real application, one would train the HMM on genomes with known gene structure in order to make a model that reflects reality. \n",
    "\n",
    "Make a HMM `hmm_7_state_genome1` (and `hmm_3_state_genome1`) that has a transition diagram similar to `hmm_7_state` (and `hmm_3_state`), but where the transition, emission, and initial probabilities are set by training by counting on `genome1.fa` and its corresponding true gene structure as given in `true-ann1.fa`.\n",
    "\n",
    "You should be able to use your implementation of training by counting as developed last week, but you must translate the annotation in `annotation1.fa` into a proper sequence of hidden states, i.e. the 7-state model the annotation `NCCCNRRRN` would correspond to `321034563`.\n",
    "\n",
    "Using the trained HMM `hmm_7_state_genome1` (and `hmm_3_state_genome1`) to predict the gene structure of genome 2, and compare the predicted annotation to true annotation (`true-ann2.fa`). Is the accurracy better than your prediction on genome 2 using `hmm_7_state` (and `hmm_3_state`)?\n",
    "\n",
    "Implement training by counting in the cell below. We'll use it to train a new model for predicting genes. Feel free to define any helper functions you find useful."
   ]
  },
  {
   "cell_type": "code",
   "execution_count": 48,
   "metadata": {},
   "outputs": [],
   "source": [
    "# Your code to get hmm_7_state_genome1 using training by counting on genome 1, \n",
    "# predict an annotation of genome 2, and compare the prediction to true-ann2.fa\n",
    "def training_by_counting(K, D, x, z):\n",
    "    \n",
    "    matrix_trans = make_table(K,K)\n",
    "    matrix_emission = make_table(K,D)\n",
    "    N = len(x)\n",
    "    \n",
    "    matrix_init = [0 for i in range(K)]\n",
    "    matrix_init[z[0]] = 1\n",
    "    \n",
    "    #transition probs matrix calculation\n",
    "    for i in range(len(z)-1):\n",
    "        curr_state = z[i]\n",
    "        next_state = z[i+1]\n",
    "        matrix_trans[curr_state][next_state] += 1\n",
    "    \n",
    "    #Make list of sums of rows in matrix\n",
    "    lst_sum = []\n",
    "    for lst in matrix_trans:\n",
    "        lst_sum.append(sum(lst))\n",
    "        \n",
    "    #Divide all values in list in matrix with the corresponding \n",
    "    #index in the list of sums.   \n",
    "    for i in range(K):\n",
    "        for j in range(K):\n",
    "            matrix_trans[i][j] = matrix_trans[i][j] / lst_sum[i]\n",
    "    \n",
    "    #emission probs matrix calculation\n",
    "    for n in range(N):\n",
    "        matrix_emission[z[n]][x[n]] +=1\n",
    "                        \n",
    "        #Make list of sums of rows in matrix\n",
    "    lst_sum = []\n",
    "    for lst in matrix_emission:\n",
    "        lst_sum.append(sum(lst))\n",
    "        \n",
    "    #Divide all values in list in matrix with the corresponding \n",
    "    #index in the list of sums.   \n",
    "    for i in range(K):\n",
    "        for j in range(D):\n",
    "            matrix_emission[i][j] = matrix_emission[i][j] / lst_sum[i]    \n",
    "\n",
    "    return hmm(matrix_init,matrix_trans,matrix_emission)"
   ]
  },
  {
   "cell_type": "markdown",
   "metadata": {},
   "source": [
    "**Question 5:** What is your accuracy of your prediction on genome 2 using `hmm_7_state_genome1`?"
   ]
  },
  {
   "cell_type": "code",
   "execution_count": 50,
   "metadata": {},
   "outputs": [
    {
     "name": "stdout",
     "output_type": "stream",
     "text": [
      "0.7829883539793396\n"
     ]
    }
   ],
   "source": [
    "# Your code to get hmm_7_state_genome1 using training by counting on genome 1, \n",
    "# predict an annotation of genome2 , and compare the prediction to true-ann2.fa\n",
    "\n",
    "# Get the training set\n",
    "x = translate_observations_to_indices(g1[\"genome1\"])\n",
    "z = translate_path_to_indices_7state(true_ann1)\n",
    "\n",
    "# Get the model\n",
    "hmm_7_state_genome1 = training_by_counting(7, 4, x, z)\n",
    "\n",
    "# Predict annotation of genome2\n",
    "w = compute_w_log(hmm_7_state_genome1, translate_observations_to_indices(g2[\"genome2\"]))\n",
    "z_pred = backtrack_log(w, hmm_7_state_genome1, translate_observations_to_indices(g2[\"genome2\"]))\n",
    "pred_ann2_7state = translate_indices_to_path_7state(z_pred)\n",
    "\n",
    "#Compare prediction accuracy\n",
    "true_ann2_7state = read_fasta_file('true-ann2.fa')\n",
    "true_ann2_7state = true_ann2_7state['true-ann2']\n",
    "print(compute_accuracy(true_ann2_7state, pred_ann2_7state))"
   ]
  },
  {
   "cell_type": "markdown",
   "metadata": {},
   "source": [
    "0.7829883539793396"
   ]
  },
  {
   "cell_type": "markdown",
   "metadata": {},
   "source": [
    "**Question 6:** What is your accuracy of your prediction on genome 2 using `hmm_3_state_genome1`?"
   ]
  },
  {
   "cell_type": "code",
   "execution_count": 51,
   "metadata": {},
   "outputs": [
    {
     "name": "stdout",
     "output_type": "stream",
     "text": [
      "0.57368917266\n"
     ]
    }
   ],
   "source": [
    "# Your code to get hmm_3_state_genome1 using training by counting on genome 1, \n",
    "# predict an annotation of genome2 , and compare the prediction to true-ann2.fa\n",
    "\n",
    "# Get the training set\n",
    "x = translate_observations_to_indices(g1[\"genome1\"])\n",
    "z = translate_path_to_indices_3state(true_ann1)\n",
    "\n",
    "# Get the model\n",
    "hmm_3_state_genome1 =training_by_counting(3, 4, x, z)\n",
    "\n",
    "# Predict annotation of genome2\n",
    "w = compute_w_log(hmm_3_state_genome1, translate_observations_to_indices(g2[\"genome2\"]))\n",
    "z_pred = backtrack_log(w, hmm_3_state_genome1, translate_observations_to_indices(g2[\"genome2\"]))\n",
    "pred_ann2_3state = translate_indices_to_path_3state(z_pred)\n",
    "\n",
    "#Compare prediction accuracy\n",
    "true_ann2_3state = read_fasta_file('true-ann2.fa')\n",
    "true_ann2_3state = true_ann2_3state['true-ann2']\n",
    "print(compute_accuracy(true_ann2_3state, pred_ann2_3state))\n"
   ]
  },
  {
   "cell_type": "markdown",
   "metadata": {},
   "source": [
    "0.57368917266"
   ]
  },
  {
   "cell_type": "markdown",
   "metadata": {},
   "source": [
    "Redo the above, where you train on genome 2 and predict on genome 1, i.e. make model `hmm_7_state_genome2` (and `hmm_3_state_genome2`) using training by counting on `true-ann2.fa`, predict the gene structure of `genome1.fa` and compare your prediction against `true-ann1.fa`."
   ]
  },
  {
   "cell_type": "code",
   "execution_count": 55,
   "metadata": {},
   "outputs": [
    {
     "name": "stdout",
     "output_type": "stream",
     "text": [
      "0.7643439116279547\n"
     ]
    }
   ],
   "source": [
    "# Your code to get hmm_7_state_genome2 using training by counting on genome 2, \n",
    "# predict an annotation of genome 1, and compare the prediction to true-ann1.fa\n",
    "\n",
    "# Get the training set\n",
    "x = translate_observations_to_indices(g2[\"genome2\"])\n",
    "z = translate_path_to_indices_7state(true_ann2)\n",
    "\n",
    "# Get the model\n",
    "hmm_7_state_genome2 = training_by_counting(7, 4, x, z)\n",
    "\n",
    "# Predict annotation of genome1\n",
    "w = compute_w_log(hmm_7_state_genome2, translate_observations_to_indices(g1[\"genome1\"]))\n",
    "z_pred = backtrack_log(w, hmm_7_state_genome2, translate_observations_to_indices(g1[\"genome1\"]))\n",
    "pred_ann1_7state = translate_indices_to_path_7state(z_pred)\n",
    "\n",
    "#Compare prediction accuracy\n",
    "true_ann1_7state = read_fasta_file('true-ann1.fa')\n",
    "true_ann1_7state = true_ann1_7state['true-ann1']\n",
    "print(compute_accuracy(true_ann1_7state, pred_ann1_7state))"
   ]
  },
  {
   "cell_type": "markdown",
   "metadata": {},
   "source": [
    "**Question 7:** What is your accuracy of your prediction on genome 1 using `hmm_7_state_genome2`?"
   ]
  },
  {
   "cell_type": "markdown",
   "metadata": {},
   "source": [
    "0.7643439116279547"
   ]
  },
  {
   "cell_type": "code",
   "execution_count": null,
   "metadata": {
    "collapsed": true
   },
   "outputs": [],
   "source": [
    "# Your code to get hmm_3_state_genome2 using training by counting on genome 2, \n",
    "# predict an annotation of genome 1, and compare the prediction to true-ann1.fa\n",
    "\n",
    "# Get the training set\n",
    "x = translate_observations_to_indices(g2[\"genome2\"])\n",
    "z = translate_path_to_indices_3state(true_ann2)\n",
    "\n",
    "# Get the model\n",
    "hmm_3_state_genome2 = training_by_counting(3, 4, x, z)\n",
    "\n",
    "# Predict annotation of genome1\n",
    "w = compute_w_log(hmm_3_state_genome2, translate_observations_to_indices(g1[\"genome1\"]))\n",
    "z_pred = backtrack_log(w, hmm_3_state_genome2, translate_observations_to_indices(g1[\"genome1\"]))\n",
    "pred_ann1_3state = translate_indices_to_path_3state(z_pred)\n",
    "\n",
    "#Compare prediction accuracy\n",
    "true_ann1_3state = read_fasta_file('true-ann1.fa')\n",
    "true_ann1_3state = true_ann1_3state['true-ann1']\n",
    "print(compute_accuracy(true_ann1_3state, pred_ann1_3state))"
   ]
  },
  {
   "cell_type": "markdown",
   "metadata": {},
   "source": [
    "**Question 8:** What is your accuracy of your prediction on genome 1 using `hmm_3_state_genome2`?"
   ]
  },
  {
   "cell_type": "markdown",
   "metadata": {},
   "source": [
    "0.5920069788997329"
   ]
  },
  {
   "cell_type": "markdown",
   "metadata": {},
   "source": [
    "If you have time, you are welcome to redo the above experiments with more HMMs with a more complex transition diagram, e.g. the ones that we considered in the lecture that also models start- and stop-codons. Are you able to improve on the accuracies obtained above?"
   ]
  },
  {
   "cell_type": "markdown",
   "metadata": {},
   "source": [
    "**Presentation in class on Dec 6:** Work together in groups of 2-4 students. Prepare a presentation of your answers to the questions 1-8 above that you give in class on Dec 6. It is ok if you do not cover all the questions, but you should make a proper attempt. The presentation constitutes the last mandatory hand in."
   ]
  },
  {
   "cell_type": "code",
   "execution_count": null,
   "metadata": {
    "collapsed": true
   },
   "outputs": [],
   "source": []
  }
 ],
 "metadata": {
  "kernelspec": {
   "display_name": "Python 3",
   "language": "python",
   "name": "python3"
  },
  "language_info": {
   "codemirror_mode": {
    "name": "ipython",
    "version": 3
   },
   "file_extension": ".py",
   "mimetype": "text/x-python",
   "name": "python",
   "nbconvert_exporter": "python",
   "pygments_lexer": "ipython3",
   "version": "3.6.3"
  }
 },
 "nbformat": 4,
 "nbformat_minor": 1
}
