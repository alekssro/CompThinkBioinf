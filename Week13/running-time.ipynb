{
 "cells": [
  {
   "cell_type": "markdown",
   "metadata": {},
   "source": [
    "# Estimating running times in practice"
   ]
  },
  {
   "cell_type": "markdown",
   "metadata": {},
   "source": [
    "Problem: You want to estimate if a given algorithm, e.g. the Viterbi algorithm with algoritmic time complexity $O(NK^2)$, will result in a usable (i.e. fast enough) if implemented in a given programming language, e.g. Python. One approach is of course to implement the entire algorithm and make timing experiments, but implementing the entire algorithm is time consuming. Can you get a rough, but reliable, estimate faster?\n",
    "\n",
    "Yes, by implemening a simpler algoritm that has the same core algorithmic time complexity, and see how it performs for the input sizes that you want to consider. "
   ]
  },
  {
   "cell_type": "markdown",
   "metadata": {},
   "source": [
    "## Examining the running time of a \"dummy\" implementation in Python"
   ]
  },
  {
   "cell_type": "markdown",
   "metadata": {},
   "source": [
    "The function `dummy` below clearly has the same $O(NK^2)$ time complexity as the Viterbi algorithm."
   ]
  },
  {
   "cell_type": "code",
   "execution_count": 2,
   "metadata": {},
   "outputs": [],
   "source": [
    "def dummy(N, K):\n",
    "    s = 0\n",
    "    for n in range(N):\n",
    "        for k in range(K):\n",
    "            for i in range(K):\n",
    "                s = s + 1\n",
    "    return(s)"
   ]
  },
  {
   "cell_type": "markdown",
   "metadata": {},
   "source": [
    "We want to investigate the running time of `dummy` by measuring and plotting it running time for various $N$ and $K$.\n",
    "\n",
    "Below are functions for measuring running time and plotting"
   ]
  },
  {
   "cell_type": "code",
   "execution_count": 3,
   "metadata": {},
   "outputs": [],
   "source": [
    "import matplotlib.pyplot as pyplot\n",
    "\n",
    "def plot(xs, ys, xlabel=\"n\", ylabel=\"run time (s)\"):\n",
    "    pyplot.plot(xs, ys)\n",
    "    scale = 'linear'\n",
    "    pyplot.xscale(scale)\n",
    "    pyplot.yscale(scale)\n",
    "    pyplot.title('')\n",
    "    pyplot.xlabel(xlabel)\n",
    "    pyplot.ylabel(ylabel)\n",
    "    pyplot.show()"
   ]
  },
  {
   "cell_type": "code",
   "execution_count": 4,
   "metadata": {},
   "outputs": [],
   "source": [
    "import os\n",
    "\n",
    "def etime():\n",
    "    \"\"\"See how much user and system time this process has used\n",
    "    so far and return the sum.\"\"\"\n",
    "\n",
    "    user, sys, chuser, chsys, real = os.times()\n",
    "    return user+sys"
   ]
  },
  {
   "cell_type": "markdown",
   "metadata": {},
   "source": [
    "We want to see if we can use our Python implementation of Viterbi for predicting the gene structure using our 7-state model. In this setting $N ≈ 2000000$ and $K=7$. We start to convince ourselves that it grows linearly in $N$."
   ]
  },
  {
   "cell_type": "code",
   "execution_count": 5,
   "metadata": {},
   "outputs": [],
   "source": [
    "def time_dummy(N, K):\n",
    "    start = etime()\n",
    "    dummy(N, K)\n",
    "    end = etime()\n",
    "    elapsed = end - start\n",
    "    return elapsed"
   ]
  },
  {
   "cell_type": "code",
   "execution_count": 6,
   "metadata": {},
   "outputs": [
    {
     "name": "stdout",
     "output_type": "stream",
     "text": [
      ". . . . . . . . . . . . . . . . . . . . . . . . . . . . . . . . . . . . . . . . . . . . . . . . . . . . . . . . . . . . . . . . . . . . . . . . . . . . . . . . . . . . . . . . . . . . . . . . . . . . "
     ]
    },
    {
     "data": {
      "image/png": "[encoded data removed]",
      "text/plain": [
       "<matplotlib.figure.Figure at 0x10f2f1748>"
      ]
     },
     "metadata": {},
     "output_type": "display_data"
    }
   ],
   "source": [
    "# We will mesaure the running for K=7 and N=1000, 2000, ..., 100000\n",
    "Ns = [i * 1000 for i in range(1,101)]\n",
    "Ts = []\n",
    "for n in Ns:\n",
    "    Ts.append(time_dummy(n, 7))\n",
    "    print(\".\", end=\" \")\n",
    "plot(Ns,Ts)"
   ]
  },
  {
   "cell_type": "markdown",
   "metadata": {},
   "source": [
    "Above we only measure the running time once for each choice of $N$. This can result in a jagged curve. It is often a good idea to plot the average of several measurements for each choice of $N$ as below."
   ]
  },
  {
   "cell_type": "code",
   "execution_count": 7,
   "metadata": {},
   "outputs": [
    {
     "name": "stdout",
     "output_type": "stream",
     "text": [
      ". . . . . # . . . . . # . . . . . # . . . . . # . . . . . # . . . . . # . . . . . # . . . . . # . . . . . # . . . . . # . . . . . # . . . . . # . . . . . # . . . . . # . . . . . # . . . . . # . . . . . # . . . . . # . . . . . # . . . . . # . . . . . # . . . . . # . . . . . # . . . . . # . . . . . # . . . . . # . . . . . # . . . . . # . . . . . # . . . . . # . . . . . # . . . . . # . . . . . # . . . . . # . . . . . # . . . . . # . . . . . # . . . . . # . . . . . # . . . . . # . . . . . # . . . . . # . . . . . # . . . . . # . . . . . # . . . . . # . . . . . # . . . . . # . . . . . # . . . . . # . . . . . # . . . . . # . . . . . # . . . . . # . . . . . # . . . . . # . . . . . # . . . . . # . . . . . # . . . . . # . . . . . # . . . . . # . . . . . # . . . . . # . . . . . # . . . . . # . . . . . # . . . . . # . . . . . # . . . . . # . . . . . # . . . . . # . . . . . # . . . . . # . . . . . # . . . . . # . . . . . # . . . . . # . . . . . # . . . . . # . . . . . # . . . . . # . . . . . # . . . . . # . . . . . # . . . . . # . . . . . # . . . . . # . . . . . # . . . . . # . . . . . # . . . . . # . . . . . # . . . . . # . . . . . # . . . . . # . . . . . # . . . . . # . . . . . # . . . . . # "
     ]
    },
    {
     "data": {
      "image/png": "[encoded data removed]",
      "text/plain": [
       "<matplotlib.figure.Figure at 0x111457e80>"
      ]
     },
     "metadata": {},
     "output_type": "display_data"
    }
   ],
   "source": [
    "def mean(l):\n",
    "    \"\"\"Returns the mean of the values in the list l.\"\"\"\n",
    "    s = 0\n",
    "    for e in l:\n",
    "        s = s + e\n",
    "    return s/len(l)\n",
    "\n",
    "# We will mesaure the running for K=7 and N=1000, 2000, ..., 100000\n",
    "Ns = [i * 1000 for i in range(1,101)]\n",
    "Ts = []\n",
    "for n in Ns:\n",
    "    # We will measure the running time 5 times and calcualte the mean\n",
    "    l = []\n",
    "    for i in range(5):\n",
    "        l.append(time_dummy(n, 7))\n",
    "        print(\".\", end=\" \")\n",
    "    Ts.append(mean(l))\n",
    "    print(\"#\", end=\" \")\n",
    "plot(Ns,Ts)"
   ]
  },
  {
   "cell_type": "markdown",
   "metadata": {},
   "source": [
    "It is more smoothe, but it of course takes longer to construct. "
   ]
  },
  {
   "cell_type": "markdown",
   "metadata": {},
   "source": [
    "Now that we have established that the running time scales linearly in $N$ as expected, we can make an estimate how long it would take for $N=2000000$ and $K=7$."
   ]
  },
  {
   "cell_type": "code",
   "execution_count": 8,
   "metadata": {},
   "outputs": [
    {
     "name": "stdout",
     "output_type": "stream",
     "text": [
      "Measured running time for N=100000:  0.3500000000000085\n",
      "Estimate running time for N=2000000: 7.0000000000001705\n",
      "Measured running time for N=2000000: 7.069999999999993\n"
     ]
    }
   ],
   "source": [
    "t1 = time_dummy(100000, 7)\n",
    "print(\"Measured running time for N=100000: \", t1)\n",
    "print(\"Estimate running time for N=2000000:\", t1 * 20)\n",
    "t20 = time_dummy(2000000, 7)\n",
    "print(\"Measured running time for N=2000000:\", t20)"
   ]
  },
  {
   "cell_type": "markdown",
   "metadata": {},
   "source": [
    "What if $K = 31$ as it is in the more realistic model for gene structure. How much slower do you think the running time becomes? Recall that the time complexity if $O(NK^2)$, i.e we would expect it to become $31^2 / 7^2 ≈ 20$ times slower."
   ]
  },
  {
   "cell_type": "code",
   "execution_count": 16,
   "metadata": {},
   "outputs": [
    {
     "data": {
      "text/plain": [
       "19.612244897959183"
      ]
     },
     "execution_count": 16,
     "metadata": {},
     "output_type": "execute_result"
    }
   ],
   "source": [
    "31**2 / 7**2"
   ]
  },
  {
   "cell_type": "markdown",
   "metadata": {},
   "source": [
    "Let us try to see if this is the case in practice."
   ]
  },
  {
   "cell_type": "code",
   "execution_count": 9,
   "metadata": {},
   "outputs": [
    {
     "name": "stdout",
     "output_type": "stream",
     "text": [
      "Measured running time for N=100000, K=7:  0.3400000000000034\n",
      "Estimate running time for N=100000, K=31: 6.668163265306189\n",
      "Measured running time for N=100000, K=31: 4.349999999999994\n"
     ]
    }
   ],
   "source": [
    "t7 = time_dummy(100000, 7)\n",
    "print(\"Measured running time for N=100000, K=7: \", t7)\n",
    "print(\"Estimate running time for N=100000, K=31:\", t7 * (31**2 / 7**2))\n",
    "t31 = time_dummy(100000, 31)\n",
    "print(\"Measured running time for N=100000, K=31:\", t31)"
   ]
  },
  {
   "cell_type": "code",
   "execution_count": 31,
   "metadata": {},
   "outputs": [
    {
     "name": "stdout",
     "output_type": "stream",
     "text": [
      "Measured running time for N=2000000, K=31: 85.99000000000001\n"
     ]
    }
   ],
   "source": [
    "print(\"Measured running time for N=2000000, K=31:\", time_dummy(2000000, 31))"
   ]
  },
  {
   "cell_type": "markdown",
   "metadata": {},
   "source": [
    "Why is it faster in practice than expected? We would think it should scale linearly in $K^2$. Let us make a plot."
   ]
  },
  {
   "cell_type": "code",
   "execution_count": 10,
   "metadata": {},
   "outputs": [
    {
     "name": "stdout",
     "output_type": "stream",
     "text": [
      ". . . . . . . . . . . . . . . . . . . . . . . . . . . . . . . "
     ]
    },
    {
     "data": {
      "image/png": "[encoded data removed]",
      "text/plain": [
       "<matplotlib.figure.Figure at 0x111572278>"
      ]
     },
     "metadata": {},
     "output_type": "display_data"
    },
    {
     "data": {
      "image/png": "[encoded data removed]",
      "text/plain": [
       "<matplotlib.figure.Figure at 0x111006a20>"
      ]
     },
     "metadata": {},
     "output_type": "display_data"
    }
   ],
   "source": [
    "# We will mesaure the running for K=1,...,31 and N=100000\n",
    "Ks = [i for i in range(1, 32)]\n",
    "Ts = []\n",
    "for k in Ks:\n",
    "    Ts.append(time_dummy(100000, k))\n",
    "    print(\".\", end=\" \")\n",
    "# Plot (K, time). Time should be quadratic in K\n",
    "plot(Ks, Ts, \"k\")\n",
    "# Plot (K^2, time). Time should be linear in K^2.\n",
    "KKs = [k**2 for k in Ks]\n",
    "plot(KKs, Ts, \"k*k\")"
   ]
  },
  {
   "cell_type": "markdown",
   "metadata": {},
   "source": [
    "The running time does seem to scale linearly in $K^2$, but there is some overhead for small $K$ that apparently make us over estimate how fast it grows when we consider $K=7$."
   ]
  },
  {
   "cell_type": "markdown",
   "metadata": {},
   "source": [
    "## Examining the running time of a \"dummy\" implementation in C"
   ]
  },
  {
   "cell_type": "markdown",
   "metadata": {},
   "source": [
    "A simple implementation of `dummy` in C:"
   ]
  },
  {
   "cell_type": "raw",
   "metadata": {},
   "source": [
    "#include <stdio.h>\n",
    "#include <stdlib.h>\n",
    "\n",
    "int main(int argc, char *argv[])\n",
    "{\n",
    "  long n;\n",
    "  long k;\n",
    "  int i, j, l, s;\n",
    "\n",
    "  n = strtol(argv[1], NULL, 10);\n",
    "  k = strtol(argv[2], NULL, 10);\n",
    "\n",
    "  s = 0;\n",
    "  for (i = 0; i < n; i++)\n",
    "      for (j = 0; j < k; j++)\n",
    "\t  for (l = 0; l < k; l++)\n",
    "\t      s = s + 1;\n",
    "  printf(\"%d\\n\", s);\n",
    "}"
   ]
  },
  {
   "cell_type": "markdown",
   "metadata": {},
   "source": [
    "You cannot run the above code inside this notebook. It must be compiled to an executable file in your terminal. If you have a C compiler installed (e.g. gcc om MacOs), you can compile it as `gcc -o dummy dummy.c`. For the following experiments to work, you must have the compiled file `dummy` in the same directory as this notebook."
   ]
  },
  {
   "cell_type": "markdown",
   "metadata": {},
   "source": [
    "A few functions for measuring the running time of a C implementation of `dummy` function."
   ]
  },
  {
   "cell_type": "code",
   "execution_count": 12,
   "metadata": {},
   "outputs": [],
   "source": [
    "from subprocess import *\n",
    "\n",
    "def get_runningtime(cmd):\n",
    "    pipe = Popen(\"/usr/bin/time -p %s\" % (cmd), shell=True, stdout=PIPE, stderr=PIPE).stderr\n",
    "    (real, user, sys) = [float(x.split()[1]) for x in pipe.readlines()]\n",
    "    return user+sys"
   ]
  },
  {
   "cell_type": "code",
   "execution_count": 13,
   "metadata": {},
   "outputs": [],
   "source": [
    "def time_dummy_c(N, K):\n",
    "    cmd = \"./dummy %d %d\" % (N,K)\n",
    "    return get_runningtime(cmd)"
   ]
  },
  {
   "cell_type": "markdown",
   "metadata": {},
   "source": [
    "Let us do the same plots as above."
   ]
  },
  {
   "cell_type": "code",
   "execution_count": 14,
   "metadata": {},
   "outputs": [
    {
     "name": "stdout",
     "output_type": "stream",
     "text": [
      ". . . . . . . . . . . . . . . . . . . . . . . . . . . . . . . . . . . . . . . . . . . . . . . . . . . . . . . . . . . . . . . . . . . . . . . . . . . . . . . . . . . . . . . . . . . . . . . . . . . . "
     ]
    },
    {
     "data": {
      "image/png": "[encoded data removed]",
      "text/plain": [
       "<matplotlib.figure.Figure at 0x119897748>"
      ]
     },
     "metadata": {},
     "output_type": "display_data"
    }
   ],
   "source": [
    "# We will mesaure the running for K=7 and N=1000, 2000, ..., 100000\n",
    "Ns = [i * 1000 for i in range(1,101)]\n",
    "Ts = []\n",
    "for n in Ns:\n",
    "    Ts.append(time_dummy_c(n, 7))\n",
    "    print(\".\", end=\" \")\n",
    "plot(Ns,Ts)"
   ]
  },
  {
   "cell_type": "markdown",
   "metadata": {},
   "source": [
    "Very fast. We cannot measure it with our resolution. Let us try $K=31$."
   ]
  },
  {
   "cell_type": "code",
   "execution_count": 15,
   "metadata": {},
   "outputs": [
    {
     "name": "stdout",
     "output_type": "stream",
     "text": [
      ". . . . . . . . . . . . . . . . . . . . . . . . . . . . . . . . . . . . . . . . . . . . . . . . . . . . . . . . . . . . . . . . . . . . . . . . . . . . . . . . . . . . . . . . . . . . . . . . . . . . "
     ]
    },
    {
     "data": {
      "image/png": "[encoded data removed]",
      "text/plain": [
       "<matplotlib.figure.Figure at 0x1114a3da0>"
      ]
     },
     "metadata": {},
     "output_type": "display_data"
    }
   ],
   "source": [
    "# We will mesaure the running for K=31 and N=1000, 2000, ..., 100000\n",
    "Ns = [i * 1000 for i in range(1,101)]\n",
    "Ts = []\n",
    "for n in Ns:\n",
    "    Ts.append(time_dummy_c(n, 31))\n",
    "    print(\".\", end=\" \")\n",
    "plot(Ns,Ts)"
   ]
  },
  {
   "cell_type": "markdown",
   "metadata": {},
   "source": [
    "## Running time in Python vs. C"
   ]
  },
  {
   "cell_type": "markdown",
   "metadata": {},
   "source": [
    "How fast is our C implementation compared to our Python implementation?"
   ]
  },
  {
   "cell_type": "code",
   "execution_count": 16,
   "metadata": {},
   "outputs": [
    {
     "name": "stdout",
     "output_type": "stream",
     "text": [
      ". . . . . . . . . . . . . . . . . . . . . . . . . . . . . . . . . . . . . . . . . . . . . . . . . . "
     ]
    },
    {
     "data": {
      "image/png": "[encoded data removed]",
      "text/plain": [
       "<matplotlib.figure.Figure at 0x119a22400>"
      ]
     },
     "metadata": {},
     "output_type": "display_data"
    }
   ],
   "source": [
    "# We will mesaure the running for K=31 and N=1000, 2000, ..., 50000\n",
    "Ns = [i * 1000 for i in range(1,51)]\n",
    "Ts = []\n",
    "for n in Ns:\n",
    "    t_c = time_dummy_c(n, 31)\n",
    "    t_p = time_dummy(n, 31)\n",
    "    if t_c > 0:\n",
    "        speedup = t_p / t_c\n",
    "        Ts.append(speedup)\n",
    "    else:\n",
    "        Ts.append(0)\n",
    "    print(\".\", end=\" \")\n",
    "plot(Ns,Ts, \"n\", \"speedup\")"
   ]
  },
  {
   "cell_type": "markdown",
   "metadata": {},
   "source": [
    "It seems that the C implementation is about **?** times faster than Python, including some additional overhead."
   ]
  },
  {
   "cell_type": "markdown",
   "metadata": {},
   "source": [
    "Finally. Let us consinder $N = 2000000$ and $K=7$ and $K=31$ as was our initial questions."
   ]
  },
  {
   "cell_type": "code",
   "execution_count": 89,
   "metadata": {},
   "outputs": [
    {
     "name": "stdout",
     "output_type": "stream",
     "text": [
      "Measured running time in Python for N=2000000, K=31: 7.160000000000082\n",
      "Measured running time in C for N=2000000, K=31:      0.14\n",
      "Speedup:  51.14285714285772\n"
     ]
    }
   ],
   "source": [
    "tp = time_dummy(2000000, 7)\n",
    "tc = time_dummy_c(2000000, 7)\n",
    "print(\"Measured running time in Python for N=2000000, K=7:\", tp)\n",
    "print(\"Measured running time in C for N=2000000, K=7:     \", tc)\n",
    "print(\"Speedup:\", tp / tc)"
   ]
  },
  {
   "cell_type": "code",
   "execution_count": 90,
   "metadata": {},
   "outputs": [
    {
     "name": "stdout",
     "output_type": "stream",
     "text": [
      "Measured running time in Python for N=2000000, K=31: 86.7399999999999\n",
      "Measured running time in C for N=2000000, K=31:      2.69\n",
      "Speedup:  32.24535315985126\n"
     ]
    }
   ],
   "source": [
    "tp = time_dummy(2000000, 31)\n",
    "tc = time_dummy_c(2000000, 31)\n",
    "print(\"Measured running time in Python for N=2000000, K=31:\", tp)\n",
    "print(\"Measured running time in C for N=2000000, K=31:     \", tc)\n",
    "print(\"Speedup: \", tp / tc)"
   ]
  },
  {
   "cell_type": "code",
   "execution_count": null,
   "metadata": {
    "collapsed": true
   },
   "outputs": [],
   "source": []
  }
 ],
 "metadata": {
  "anaconda-cloud": {},
  "kernelspec": {
   "display_name": "Python 3",
   "language": "python",
   "name": "python3"
  },
  "language_info": {
   "codemirror_mode": {
    "name": "ipython",
    "version": 3
   },
   "file_extension": ".py",
   "mimetype": "text/x-python",
   "name": "python",
   "nbconvert_exporter": "python",
   "pygments_lexer": "ipython3",
   "version": "3.6.3"
  }
 },
 "nbformat": 4,
 "nbformat_minor": 1
}
