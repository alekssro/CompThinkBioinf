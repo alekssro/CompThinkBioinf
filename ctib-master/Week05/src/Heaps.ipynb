{
 "cells": [
  {
   "cell_type": "markdown",
   "metadata": {},
   "source": [
    "# Heaps\n",
    "\n",
    "The heap property of a tree is this: the value at the root of a tree is always smaller than all values in its subtrees. This means that we can always access the smallest element in a set that we have stored in a heap tree by accessing the value in the root.\n",
    "\n",
    "We will implement heap trees using the explicit node representation that we also used for search trees."
   ]
  },
  {
   "cell_type": "code",
   "execution_count": 1,
   "metadata": {
    "collapsed": true
   },
   "outputs": [],
   "source": [
    "class TreeNode:\n",
    "    def __init__(self, value, left = None, right = None):\n",
    "        self.value = value\n",
    "        self.left = left\n",
    "        self.right = right\n",
    "        \n",
    "def display_tree(tree):\n",
    "    if tree is None:\n",
    "        return \"\"\n",
    "    if tree.left is None and tree.right is None:\n",
    "        return str(tree.value)\n",
    "    \n",
    "    if tree.left is None:\n",
    "        subtree = \"({right})\".format(right = display_tree(tree.right))\n",
    "    elif tree.right is None:\n",
    "        subtree = \"({left})\".format(left = display_tree(tree.left))\n",
    "    else:\n",
    "        subtree = \"({left},{right})\".format(left = display_tree(tree.left),\n",
    "                                            right = display_tree(tree.right))\n",
    "    return \"{subtree}{value}\".format(subtree = subtree, value = tree.value)"
   ]
  },
  {
   "cell_type": "markdown",
   "metadata": {},
   "source": [
    "## Operations\n",
    "\n",
    "For heaps we want the following operations: `get_min` (get the minimal value in the heap), `insert` (what it says on the tin), and `delete_min` (delete the minimal element). Of these, `get_min` is trivial to implement since the minimal value is the value of the root:"
   ]
  },
  {
   "cell_type": "code",
   "execution_count": 2,
   "metadata": {
    "collapsed": true
   },
   "outputs": [],
   "source": [
    "def get_min(heap):\n",
    "    return heap.value"
   ]
  },
  {
   "cell_type": "markdown",
   "metadata": {},
   "source": [
    "Admittedly, this will raise an exception if the heap is empty, but you can implement an emptyness check (checking if `heap` is `None`) and avoid this.\n",
    "\n",
    "The other two operations, it turns out, can be handled easily if we implement a fourth operation, `merge`, that merges two heaps. If we can merge heaps, then insertion involves merging a singleton heap into another heap, and deleting involves merging the left and right subtrees of a heap.\n",
    "\n",
    "![Heap operations](heap-operations.png)"
   ]
  },
  {
   "cell_type": "code",
   "execution_count": 3,
   "metadata": {
    "collapsed": true
   },
   "outputs": [],
   "source": [
    "def insert(heap, value):\n",
    "    return merge(heap, TreeNode(value))\n",
    "\n",
    "def delete_min(heap):\n",
    "    return merge(heap.left, heap.right)"
   ]
  },
  {
   "cell_type": "markdown",
   "metadata": {},
   "source": [
    "Merging two heaps is another recursive function with a case analysis. Merging a heap with an empty heap is just the first heap returned. For two non-empty heaps, we need to consider the values in their roots. We want to make the smaller value the root of the new heap and merge the other heap into one of the children. If the values in the two roots are the same, we arbitrarily merge left with left and right with right.\n",
    "\n",
    "![Merging heaps](heap-merge.png)"
   ]
  },
  {
   "cell_type": "code",
   "execution_count": 4,
   "metadata": {
    "collapsed": true
   },
   "outputs": [],
   "source": [
    "def merge(h1, h2):\n",
    "    if h1 is None:\n",
    "        return h2\n",
    "    if h2 is None:\n",
    "        return h1\n",
    "    if h1.value == h2.value:\n",
    "        return TreeNode(h1.value, merge(h1.left, h2.left), merge(h1.right, h2.right))\n",
    "    if h1.value < h2.value:\n",
    "        return TreeNode(h1.value, merge(h1.left, h2), h1.right)\n",
    "    if h1.value > h2.value:\n",
    "        return TreeNode(h2.value, merge(h2.left, h1), h2.right)"
   ]
  },
  {
   "cell_type": "code",
   "execution_count": 8,
   "metadata": {},
   "outputs": [
    {
     "name": "stdout",
     "output_type": "stream",
     "text": [
      "(((((10)7)6)4)2)1\n"
     ]
    }
   ],
   "source": [
    "values = [1, 4, 7, 2, 10, 6]\n",
    "heap = None\n",
    "for v in values:\n",
    "    heap = insert(heap, v)\n",
    "\n",
    "print(display_tree(heap))"
   ]
  },
  {
   "cell_type": "code",
   "execution_count": 9,
   "metadata": {},
   "outputs": [
    {
     "name": "stdout",
     "output_type": "stream",
     "text": [
      "((((10)7)6)4)2\n"
     ]
    }
   ],
   "source": [
    "heap = delete_min(heap)\n",
    "print(display_tree(heap))"
   ]
  },
  {
   "cell_type": "code",
   "execution_count": 10,
   "metadata": {},
   "outputs": [
    {
     "name": "stdout",
     "output_type": "stream",
     "text": [
      "(((10)7)6)4\n"
     ]
    }
   ],
   "source": [
    "heap = delete_min(heap)\n",
    "print(display_tree(heap))"
   ]
  }
 ],
 "metadata": {
  "anaconda-cloud": {},
  "kernelspec": {
   "display_name": "Python 3",
   "language": "python",
   "name": "python3"
  },
  "language_info": {
   "codemirror_mode": {
    "name": "ipython",
    "version": 3
   },
   "file_extension": ".py",
   "mimetype": "text/x-python",
   "name": "python",
   "nbconvert_exporter": "python",
   "pygments_lexer": "ipython3",
   "version": "3.5.2"
  }
 },
 "nbformat": 4,
 "nbformat_minor": 2
}
