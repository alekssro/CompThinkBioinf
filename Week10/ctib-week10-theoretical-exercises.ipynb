{
 "cells": [
  {
   "cell_type": "markdown",
   "metadata": {},
   "source": [
    "# CTiB - Week 10 - Theoretical Exercises"
   ]
  },
  {
   "cell_type": "markdown",
   "metadata": {},
   "source": [
    "Questions to slides *Hidden Markov Models - Algorithms for decoding*:\n",
    "\n",
    "* Where in the derivation of $\\omega({\\bf z}_n$) on slide 6 do we use that the fact that we are working with hidden Markov models?\n",
    "\n",
    "In the second line because we depend on what it came before (this is a sign of Markov).\n",
    "\n",
    "Explanation: the viterbi algorithm fill out the matrix of probabilities of being in one state k at time n.The last column gives the most likely state to be at time n, so we can backtrack the most probable sequence of hidden states.\n",
    "\n",
    "* Explain why filling out the $\\omega$-table cf. the recursion on slide 8 takes time O($NK^2$) when using dynamic programming.\n",
    "\n",
    "Because we have to evaluate $N * K * K$ terms.\n",
    "\n",
    "When we fill up the table we take $K * N$ iterations and we have to look up k terms in z(n-1) state.\n",
    "\n",
    "* Expand the pseudo code on slide 9 to pseudo code for filling out the entire $\\omega$-table, and not just a single entry.\n",
    "\n",
    "// Pseudo code for computing ω [ k ][n ] for some n >1\n",
    "\n",
    "ω [ k ][n ] = 0\n",
    "\n",
    "for n = 1 to N:\n",
    "\n",
    "    for j = 1 to K :\n",
    "\n",
    "        ω [k][n] = max(ω[k][n], p(x[n] | k) * ω[j][n-1] * p (k | j))\n",
    "\n",
    "* Look at the pseudo code for backtracking on slide 13. What does $\\arg \\max_{k}$ means? How would you implement it?\n",
    "\n",
    "We want to find the state that gave the maximum value. Then you are interested in the index and the probability?"
   ]
  }
 ],
 "metadata": {
  "kernelspec": {
   "display_name": "Python 3",
   "language": "python",
   "name": "python3"
  },
  "language_info": {
   "codemirror_mode": {
    "name": "ipython",
    "version": 3
   },
   "file_extension": ".py",
   "mimetype": "text/x-python",
   "name": "python",
   "nbconvert_exporter": "python",
   "pygments_lexer": "ipython3",
   "version": "3.6.3"
  }
 },
 "nbformat": 4,
 "nbformat_minor": 2
}
