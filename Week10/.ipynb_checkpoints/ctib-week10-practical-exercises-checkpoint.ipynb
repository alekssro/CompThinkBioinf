{
 "cells": [
  {
   "cell_type": "code",
   "execution_count": 1,
   "metadata": {},
   "outputs": [],
   "source": [
    "import math  # Just ignore this :-)\n",
    "\n",
    "def log(x):\n",
    "    if x == 0:\n",
    "        return float('-inf')\n",
    "    return math.log(x)"
   ]
  },
  {
   "cell_type": "markdown",
   "metadata": {},
   "source": [
    "# CTiB - Week 10 - Practical Exercises"
   ]
  },
  {
   "cell_type": "markdown",
   "metadata": {
    "nbpresent": {
     "id": "22a39008-e542-438a-83f4-fd54f37017b8"
    }
   },
   "source": [
    "In the exercise below, you will implement and experiment with the computation of the Viterbi decoding as explained in the lectures in week 10."
   ]
  },
  {
   "cell_type": "markdown",
   "metadata": {
    "collapsed": true
   },
   "source": [
    "# 1 - Viterbi Decoding"
   ]
  },
  {
   "cell_type": "markdown",
   "metadata": {},
   "source": [
    "Below you will implement and experiment with the Viterbi algorithm. The implementation has been split into three parts:\n",
    "\n",
    "1. Fill out the $\\omega$ table using the recursion presented at the lecture.\n",
    "2. Find the state with the highest probability after observing the entire sequence of observations.\n",
    "3. Backtrack from the state found in the previous step to obtain the optimal path.\n",
    "\n",
    "We'll be working with the two models (`hmm_7_state` and `hmm_3_state`) that we also worked with last time: the 3 and 7-state models. We have included the models below."
   ]
  },
  {
   "cell_type": "code",
   "execution_count": 2,
   "metadata": {},
   "outputs": [],
   "source": [
    "class hmm:\n",
    "    def __init__(self, init_probs, trans_probs, emission_probs):\n",
    "        self.init_probs = init_probs\n",
    "        self.trans_probs = trans_probs\n",
    "        self.emission_probs = emission_probs"
   ]
  },
  {
   "cell_type": "code",
   "execution_count": 3,
   "metadata": {},
   "outputs": [],
   "source": [
    "init_probs_7_state = [0.00, 0.00, 0.00, 1.00, 0.00, 0.00, 0.00]\n",
    "\n",
    "trans_probs_7_state = [\n",
    "    [0.00, 0.00, 0.90, 0.10, 0.00, 0.00, 0.00],\n",
    "    [1.00, 0.00, 0.00, 0.00, 0.00, 0.00, 0.00],\n",
    "    [0.00, 1.00, 0.00, 0.00, 0.00, 0.00, 0.00],\n",
    "    [0.00, 0.00, 0.05, 0.90, 0.05, 0.00, 0.00],\n",
    "    [0.00, 0.00, 0.00, 0.00, 0.00, 1.00, 0.00],\n",
    "    [0.00, 0.00, 0.00, 0.00, 0.00, 0.00, 1.00],\n",
    "    [0.00, 0.00, 0.00, 0.10, 0.90, 0.00, 0.00],\n",
    "]\n",
    "\n",
    "emission_probs_7_state = [\n",
    "    #   A     C     G     T\n",
    "    [0.30, 0.25, 0.25, 0.20],\n",
    "    [0.20, 0.35, 0.15, 0.30],\n",
    "    [0.40, 0.15, 0.20, 0.25],\n",
    "    [0.25, 0.25, 0.25, 0.25],\n",
    "    [0.20, 0.40, 0.30, 0.10],\n",
    "    [0.30, 0.20, 0.30, 0.20],\n",
    "    [0.15, 0.30, 0.20, 0.35],\n",
    "]\n",
    "\n",
    "hmm_7_state = hmm(init_probs_7_state, trans_probs_7_state, emission_probs_7_state)"
   ]
  },
  {
   "cell_type": "code",
   "execution_count": 4,
   "metadata": {},
   "outputs": [],
   "source": [
    "init_probs_3_state = [0.10, 0.80, 0.10]\n",
    "\n",
    "trans_probs_3_state = [\n",
    "    [0.90, 0.10, 0.00],\n",
    "    [0.05, 0.90, 0.05],\n",
    "    [0.00, 0.10, 0.90],\n",
    "]\n",
    "\n",
    "emission_probs_3_state = [\n",
    "    #   A     C     G     T\n",
    "    [0.40, 0.15, 0.20, 0.25],\n",
    "    [0.25, 0.25, 0.25, 0.25],\n",
    "    [0.20, 0.40, 0.30, 0.10],\n",
    "]\n",
    "\n",
    "hmm_3_state = hmm(init_probs_3_state, trans_probs_3_state, emission_probs_3_state)"
   ]
  },
  {
   "cell_type": "markdown",
   "metadata": {},
   "source": [
    "We also need the helper functions for translating between observations/paths and indices."
   ]
  },
  {
   "cell_type": "code",
   "execution_count": 5,
   "metadata": {},
   "outputs": [],
   "source": [
    "def translate_path_to_indices(path):\n",
    "    return list(map(lambda x: int(x), path))\n",
    "\n",
    "def translate_indices_to_path(indices):\n",
    "    return ''.join([str(i) for i in indices])\n",
    "\n",
    "def translate_observations_to_indices(obs):\n",
    "    mapping = {'a': 0, 'c': 1, 'g': 2, 't': 3}\n",
    "    return [mapping[symbol.lower()] for symbol in obs]\n",
    "\n",
    "def translate_indices_to_observations(indices):\n",
    "    mapping = ['a', 'c', 'g', 't']\n",
    "    return ''.join(mapping[idx] for idx in indices)"
   ]
  },
  {
   "cell_type": "markdown",
   "metadata": {},
   "source": [
    "Additionally, you're given the function below that constructs a table of a specific size filled with zeros."
   ]
  },
  {
   "cell_type": "code",
   "execution_count": 6,
   "metadata": {},
   "outputs": [],
   "source": [
    "def make_table(m, n):\n",
    "    \"\"\"Make a table with `m` rows and `n` columns filled with zeros.\"\"\"\n",
    "    return [[0] * n for _ in range(m)]"
   ]
  },
  {
   "cell_type": "markdown",
   "metadata": {},
   "source": [
    "You'll be testing your code with the same two sequences as last time, i.e:"
   ]
  },
  {
   "cell_type": "code",
   "execution_count": 7,
   "metadata": {},
   "outputs": [],
   "source": [
    "x_short = 'GTTTCCCAGTGTATATCGAGGGATACTACGTGCATAGTAACATCGGCCAA'\n",
    "z_short = '33333333333321021021021021021021021021021021021021'"
   ]
  },
  {
   "cell_type": "code",
   "execution_count": 8,
   "metadata": {},
   "outputs": [],
   "source": [
    "x_long = 'TGAGTATCACTTAGGTCTATGTCTAGTCGTCTTTCGTAATGTTTGGTCTTGTCACCAGTTATCCTATGGCGCTCCGAGTCTGGTTCTCGAAATAAGCATCCCCGCCCAAGTCATGCACCCGTTTGTGTTCTTCGCCGACTTGAGCGACTTAATGAGGATGCCACTCGTCACCATCTTGAACATGCCACCAACGAGGTTGCCGCCGTCCATTATAACTACAACCTAGACAATTTTCGCTTTAGGTCCATTCACTAGGCCGAAATCCGCTGGAGTAAGCACAAAGCTCGTATAGGCAAAACCGACTCCATGAGTCTGCCTCCCGACCATTCCCATCAAAATACGCTATCAATACTAAAAAAATGACGGTTCAGCCTCACCCGGATGCTCGAGACAGCACACGGACATGATAGCGAACGTGACCAGTGTAGTGGCCCAGGGGAACCGCCGCGCCATTTTGTTCATGGCCCCGCTGCCGAATATTTCGATCCCAGCTAGAGTAATGACCTGTAGCTTAAACCCACTTTTGGCCCAAACTAGAGCAACAATCGGAATGGCTGAAGTGAATGCCGGCATGCCCTCAGCTCTAAGCGCCTCGATCGCAGTAATGACCGTCTTAACATTAGCTCTCAACGCTATGCAGTGGCTTTGGTGTCGCTTACTACCAGTTCCGAACGTCTCGGGGGTCTTGATGCAGCGCACCACGATGCCAAGCCACGCTGAATCGGGCAGCCAGCAGGATCGTTACAGTCGAGCCCACGGCAATGCGAGCCGTCACGTTGCCGAATATGCACTGCGGGACTACGGACGCAGGGCCGCCAACCATCTGGTTGACGATAGCCAAACACGGTCCAGAGGTGCCCCATCTCGGTTATTTGGATCGTAATTTTTGTGAAGAACACTGCAAACGCAAGTGGCTTTCCAGACTTTACGACTATGTGCCATCATTTAAGGCTACGACCCGGCTTTTAAGACCCCCACCACTAAATAGAGGTACATCTGA'\n",
    "z_long = '3333321021021021021021021021021021021021021021021021021021021021021021033333333334564564564564564564564564564564564564564564564564564564564564564564564564564564564564564564564564564564564564564564564564564564563210210210210210210210210210210210210210210210210210210210210210210210210210210210210210210210210210210210210210210210210210210210321021021021021021021021033334564564564564564564564564564564564564564564564564564564564564564564564564564564564564564564564564564564564564564564564564564564564564564564564564564564564564564564564564564564564564564564564564564564564564564564564564564564564564564564564564564564564564564564564564564564564564564564564564564564564564564564564564564564564564564564564564564564564563333333456456456456456456456456456456456456456456456456456456456456456456456456456456456456456456456456456456456456456456332102102102102102102102102102102102102102102102102102102102102102102102102102102102102102102102103210210210210210210210210210210210210210210210210210210210210210'"
   ]
  },
  {
   "cell_type": "markdown",
   "metadata": {},
   "source": [
    "Remember to translate these sequences to indices before using them with your algorithms."
   ]
  },
  {
   "cell_type": "markdown",
   "metadata": {},
   "source": [
    "## Implementing without log-transformation"
   ]
  },
  {
   "cell_type": "markdown",
   "metadata": {},
   "source": [
    "First, we will implement the algorithm without log-transformation. This will cause issues with numerical stability (like above when computing the joint probability), so we will use the log-transformation trick to fix this in the next section."
   ]
  },
  {
   "cell_type": "markdown",
   "metadata": {},
   "source": [
    "### Computation of the $\\omega$ table"
   ]
  },
  {
   "cell_type": "code",
   "execution_count": 9,
   "metadata": {},
   "outputs": [
    {
     "name": "stdout",
     "output_type": "stream",
     "text": [
      "[0.0, 0, 0, 0.0001875, 5.2734375000000006e-05, 1.3842773437500002e-05, 2.2148437499999996e-06, 7.475097656250001e-07, 9.343872070312501e-08, 2.39203125e-08, 1.0091381835937502e-08, 6.307113647460939e-10, 3.875090625e-10, 9.082243652343754e-11, 3.366822439205649e-11, 3.4875815625000005e-12, 2.452205786132814e-12, 6.628431677186121e-13, 2.1187057992187502e-14, 2.2069852075195328e-14, 8.948382764201263e-15, 2.0476541335074109e-16, 1.7876580180908215e-16, 6.44283559022491e-17, 1.119554897495177e-17, 2.011115270352174e-18, 1.6235945687366777e-18, 1.36025920045664e-19, 2.2625046791461958e-20, 5.114322891520534e-20, 5.509049761849393e-22, 3.0543813168473645e-22, 4.315209939720451e-22, 1.041210404989535e-23, 1.6493659110975769e-24, 1.398128020469426e-23, 1.171361705613227e-25, 1.781315183985383e-26, 2.2649673931604703e-25, 1.5813383025778564e-27, 3.20636733117369e-28, 8.561576746146578e-27, 8.539226833920425e-30, 8.657191794168963e-30, 1.6855604218976076e-28, 6.019858649634314e-32, 5.84360446106405e-32, 2.654757664488732e-30, 3.318447080610915e-33, 4.7333196134618815e-34]\n",
      "[0.0, 0, 0.0009375, 0.00021093750000000002, 5.537109375000001e-05, 8.859374999999999e-06, 2.4916992187500004e-06, 3.7375488281250005e-07, 1.196015625e-07, 4.036552734375001e-08, 3.153556823730469e-09, 1.291696875e-09, 4.5411218261718766e-10, 1.122274146401883e-10, 1.7437907812500002e-11, 9.808823144531256e-12, 2.6513726708744486e-12, 7.062352664062501e-14, 8.827940830078131e-14, 3.5793531056805053e-14, 8.190616534029643e-16, 5.958860060302739e-16, 3.221417795112455e-16, 3.731849658317257e-17, 8.044461081408696e-18, 8.117972843683388e-18, 4.534197334855467e-19, 9.050018716584783e-20, 2.0457291566082136e-19, 2.7545248809246962e-21, 1.2217525267389458e-21, 1.7260839758881803e-21, 3.470701349965117e-23, 8.246829555487884e-24, 4.6604267348980874e-23, 4.685446822452908e-25, 8.906575919926915e-26, 7.549891310534901e-25, 5.271127675259522e-27, 1.282546932469476e-27, 2.853858915382193e-26, 4.2696134169602126e-29, 3.4628767176675853e-29, 6.742241687590431e-28, 2.4079434598537258e-31, 2.33744178442562e-31, 1.0619030657954928e-29, 1.1061490268703051e-32, 1.577773204487294e-33, 1.911425518431887e-31]\n",
      "[0.0, 0.003125, 0.0007031250000000001, 0.00015820312500000003, 2.53125e-05, 7.119140625000001e-06, 1.8687744140625002e-06, 7.9734375e-07, 1.3455175781250004e-07, 2.1023712158203127e-08, 4.30565625e-09, 2.270560913085938e-09, 3.74091382133961e-10, 8.71895390625e-11, 3.269607714843752e-11, 7.575350488212711e-12, 4.708235109375001e-13, 4.4139704150390654e-13, 2.386235403787004e-13, 5.460411022686429e-15, 3.9725733735351594e-15, 1.6107088975562275e-15, 1.2439498861057524e-16, 4.022230540704348e-17, 2.319420812480968e-17, 1.511399111618489e-18, 4.525009358292391e-19, 5.84494044745204e-19, 1.836349920616464e-20, 4.072508422463153e-21, 1.1507226505921202e-20, 9.916289571328906e-23, 4.123414777743942e-23, 1.5534755782993624e-22, 2.3427234112264538e-24, 5.937717279951277e-25, 2.516630436844967e-24, 2.6355638376297607e-26, 6.41273466234738e-27, 8.153882615377694e-26, 2.134806708480106e-28, 1.1542922392225286e-28, 1.9263547678829802e-27, 1.605295639902484e-30, 1.5582945229504134e-30, 3.034008759415694e-29, 3.1604257910580146e-32, 7.888866022436468e-33, 9.557127592159435e-31, 1.3273788322443661e-33]\n",
      "[0.25, 0.05625, 0.01265625, 0.0028476562500000004, 0.0006407226562500001, 0.00014416259765625004, 3.243658447265626e-05, 7.298231506347658e-06, 1.6421020889282232e-06, 3.6947297000885024e-07, 8.313141825199131e-08, 1.8704569106698046e-08, 4.208528049007061e-09, 9.469188110265886e-10, 2.1305673248098243e-10, 4.7937764808221045e-11, 1.0785997081849735e-11, 2.4268493434161903e-12, 5.460411022686429e-13, 1.2285924801044465e-13, 2.7643330802350048e-14, 6.219749430528761e-15, 1.3994436218689713e-15, 3.1487481492051856e-16, 7.084683335711667e-17, 1.5940537505351252e-17, 3.586620938704032e-18, 8.069897112084072e-19, 1.8157268502189162e-19, 4.085385412992562e-20, 9.192117179233264e-21, 2.0682263653274845e-21, 4.65350932198684e-22, 1.047039597447039e-22, 2.355839094255838e-23, 5.300637962075636e-24, 1.192643541467018e-24, 2.6834479683007904e-25, 6.037757928676778e-26, 1.358495533952275e-26, 3.056614951392619e-27, 6.877383640633393e-28, 2.140394186536645e-28, 4.8158869197074506e-29, 1.0835745569341764e-29, 4.213901054744019e-30, 9.481277373174043e-31, 2.13328740896416e-31, 6.63689416122183e-32, 1.4933011862749118e-32]\n",
      "[0.0, 0.0012500000000000002, 0.00028125000000000003, 6.328125000000001e-05, 5.695312500000001e-05, 1.2814453125000003e-05, 2.883251953125001e-06, 6.150937500000001e-07, 1.0947347259521486e-07, 1.5569560546875005e-08, 1.7437907812500003e-08, 4.156570912599566e-10, 2.9426469433593765e-10, 4.7082351093750015e-11, 9.469188110265887e-12, 1.0652836624049122e-12, 1.7797128713437504e-12, 1.6178995622774603e-13, 2.4268493434161906e-14, 2.1623511386826568e-14, 2.6209972908894855e-15, 4.1464996203525073e-16, 2.335339229777269e-16, 1.0615039028102418e-17, 7.836884282466238e-18, 2.5221663681594512e-18, 8.598181612762958e-20, 9.874474195907462e-20, 2.723939677612208e-20, 2.7235902753283745e-21, 3.554810710526687e-22, 7.722368986030608e-22, 4.1364527306549696e-23, 5.758793351053233e-24, 2.0850396262282643e-24, 7.817895660937892e-25, 7.950956943113454e-26, 1.1259213981632628e-26, 1.477582279917262e-26, 6.037757928676779e-28, 2.7169910679045507e-28, 2.3936832934659647e-28, 3.438691820316697e-30, 1.0270226236679203e-29, 3.877766935414863e-30, 1.6253618354012646e-31, 2.218368867122708e-31, 1.2563964870744157e-31, 2.13328740896416e-33, 1.1979191882462625e-33]\n",
      "[0.0, 0, 0.00025000000000000006, 5.625000000000001e-05, 1.2656250000000003e-05, 1.1390625000000002e-05, 2.5628906250000007e-06, 8.649755859375002e-07, 1.8452812500000003e-07, 2.1894694519042974e-08, 4.670868164062502e-09, 3.4875815625000008e-09, 1.2469712737798697e-10, 5.885293886718754e-11, 1.4124705328125004e-11, 1.8938376220531773e-12, 2.1305673248098244e-13, 5.339138614031251e-13, 4.8536986868323805e-14, 7.28054803024857e-15, 6.48705341604797e-15, 7.862991872668457e-16, 1.2439498861057522e-16, 4.6706784595545385e-17, 3.1845117084307253e-18, 1.5673768564932478e-18, 5.044332736318903e-19, 2.5794544838288872e-20, 1.9748948391814923e-20, 8.171819032836623e-21, 5.447180550656749e-22, 1.066443213158006e-22, 1.5444737972061216e-22, 1.2409358191964908e-23, 1.1517586702106467e-24, 6.255118878684793e-25, 2.345368698281368e-25, 1.590191388622691e-26, 3.377764194489788e-27, 4.432746839751786e-27, 1.2075515857353558e-28, 8.150973203713652e-29, 4.7873665869319294e-29, 6.877383640633394e-31, 3.0810678710037607e-30, 1.1633300806244589e-30, 3.2507236708025296e-32, 4.4367377342454166e-32, 3.769189461223247e-32, 6.3998622268924805e-34]\n",
      "[0.0, 0, 0, 8.750000000000001e-05, 1.6875000000000004e-05, 3.796875000000001e-06, 3.4171875000000005e-06, 3.844335937500001e-07, 1.7299511718750006e-07, 6.458484375000001e-08, 4.3789389038085946e-09, 1.6348038574218755e-09, 5.231372343750001e-10, 4.3643994582295436e-11, 8.827940830078131e-12, 4.943646864843751e-12, 5.681512866159531e-13, 4.261134649619649e-14, 8.008707921046876e-14, 9.707397373664761e-15, 1.4561096060497143e-15, 1.297410683209594e-15, 1.1794487809002685e-16, 4.353824601370132e-17, 7.006017689331807e-18, 9.553535125292175e-19, 5.485818997726367e-19, 7.566499104478354e-20, 7.73836345148666e-21, 3.949789678362985e-21, 2.8601366614928177e-21, 1.0894361101313499e-22, 3.199329639474018e-23, 2.3167106958091822e-23, 4.343275367187718e-24, 1.72763800531597e-25, 1.2510237757369585e-25, 8.208790443984787e-26, 2.3852870829340364e-27, 5.066646291734682e-28, 1.3298240519255357e-27, 1.8113273786030336e-29, 2.852840621299778e-29, 1.436209976079579e-29, 1.3754767281266789e-31, 6.162135742007522e-31, 3.489990241873377e-31, 9.752171012407589e-33, 6.655106601368124e-33, 5.65378419183487e-33]\n"
     ]
    }
   ],
   "source": [
    "def compute_w(model, x):\n",
    "    k = len(model.init_probs)\n",
    "    n = len(x)\n",
    "    \n",
    "    w = make_table(k, n)\n",
    "    \n",
    "    # Base case: fill out w[i][0] for i = 0..k-1\n",
    "    for i in range(k):\n",
    "        w[i][0] = model.init_probs[i] * model.emission_probs[i][x[0]]\n",
    "        \n",
    "    # Inductive case: fill out w[i][j] for i = 0..k, j = 0..n-1\n",
    "    for j in range(1, n):\n",
    "        for i in range(0, k):\n",
    "            for t in range(k):\n",
    "                w[i][j] = max(w[i][j], model.emission_probs[i][x[j]] * w[t][j-1] * model.trans_probs[t][i])\n",
    "\n",
    "    for element in w:\n",
    "        print(element)\n",
    "\n",
    "compute_w(hmm_7_state, translate_observations_to_indices(x_short))"
   ]
  },
  {
   "cell_type": "markdown",
   "metadata": {},
   "source": [
    "### Finding the joint probability of an optimal path"
   ]
  },
  {
   "cell_type": "markdown",
   "metadata": {},
   "source": [
    "Now, write a function that given the $\\omega$-table, returns the probability of an optimal path through the HMM. As explained in the lecture, this corresponds to finding the highest probability in the last column of the table."
   ]
  },
  {
   "cell_type": "code",
   "execution_count": null,
   "metadata": {
    "collapsed": true
   },
   "outputs": [],
   "source": [
    "def opt_path_prob(w):\n",
    "    pass"
   ]
  },
  {
   "cell_type": "markdown",
   "metadata": {},
   "source": [
    "Now test your implementation in the box below:"
   ]
  },
  {
   "cell_type": "code",
   "execution_count": null,
   "metadata": {
    "collapsed": true
   },
   "outputs": [],
   "source": [
    "w = compute_w(hmm_7_state, translate_observations_to_indices(x_short))\n",
    "opt_path_prob(w)"
   ]
  },
  {
   "cell_type": "markdown",
   "metadata": {},
   "source": [
    "Now do the same for `x_long`. What happens?"
   ]
  },
  {
   "cell_type": "code",
   "execution_count": 26,
   "metadata": {
    "collapsed": true
   },
   "outputs": [],
   "source": [
    "# Your code here ..."
   ]
  },
  {
   "cell_type": "markdown",
   "metadata": {},
   "source": [
    "### Obtaining an optimal path through backtracking"
   ]
  },
  {
   "cell_type": "markdown",
   "metadata": {},
   "source": [
    "Implement backtracking to find a most probable path of hidden states given the $\\omega$-table."
   ]
  },
  {
   "cell_type": "code",
   "execution_count": null,
   "metadata": {
    "collapsed": true
   },
   "outputs": [],
   "source": [
    "def backtrack(w):\n",
    "    pass"
   ]
  },
  {
   "cell_type": "code",
   "execution_count": null,
   "metadata": {
    "collapsed": true
   },
   "outputs": [],
   "source": [
    "w = compute_w(hmm_7_state, translate_observations_to_indices(x_short))\n",
    "z_viterbi = backtrack(w)"
   ]
  },
  {
   "cell_type": "markdown",
   "metadata": {},
   "source": [
    "Now do the same for `x_long`. What happens?"
   ]
  },
  {
   "cell_type": "code",
   "execution_count": null,
   "metadata": {
    "collapsed": true
   },
   "outputs": [],
   "source": [
    "# Your code here ..."
   ]
  },
  {
   "cell_type": "markdown",
   "metadata": {},
   "source": [
    "## Implementing with log-transformation"
   ]
  },
  {
   "cell_type": "markdown",
   "metadata": {},
   "source": [
    "Now implement the Viterbi algorithm with log transformation. The steps are the same as above."
   ]
  },
  {
   "cell_type": "markdown",
   "metadata": {},
   "source": [
    "### Computation of the $\\omega$ table"
   ]
  },
  {
   "cell_type": "code",
   "execution_count": null,
   "metadata": {
    "collapsed": true
   },
   "outputs": [],
   "source": [
    "def compute_w_log(model, x):\n",
    "    k = len(model.init_probs)\n",
    "    n = len(x)\n",
    "    \n",
    "    w = make_table(k, n)\n",
    "    \n",
    "    # Base case: fill out w[i][0] for i = 0..k-1\n",
    "    # ...\n",
    "    \n",
    "    # Inductive case: fill out w[i][j] for i = 0..k, j = 0..n-1\n",
    "    # ..."
   ]
  },
  {
   "cell_type": "markdown",
   "metadata": {},
   "source": [
    "### Finding the (log transformed) joint probability of an optimal path"
   ]
  },
  {
   "cell_type": "code",
   "execution_count": null,
   "metadata": {
    "collapsed": true
   },
   "outputs": [],
   "source": [
    "def opt_path_prob_log(w):\n",
    "    pass"
   ]
  },
  {
   "cell_type": "code",
   "execution_count": null,
   "metadata": {
    "collapsed": true
   },
   "outputs": [],
   "source": [
    "w = compute_w_log(hmm_7_state, translate_observations_to_indices(x_short))\n",
    "opt_path_prob_log(w)"
   ]
  },
  {
   "cell_type": "markdown",
   "metadata": {},
   "source": [
    "Now do the same for `x_long`. What happens?"
   ]
  },
  {
   "cell_type": "code",
   "execution_count": null,
   "metadata": {
    "collapsed": true
   },
   "outputs": [],
   "source": [
    "# Your code here ..."
   ]
  },
  {
   "cell_type": "markdown",
   "metadata": {},
   "source": [
    "### Obtaining an optimal path through backtracking"
   ]
  },
  {
   "cell_type": "code",
   "execution_count": null,
   "metadata": {
    "collapsed": true
   },
   "outputs": [],
   "source": [
    "def backtrack_log(w):\n",
    "    pass"
   ]
  },
  {
   "cell_type": "code",
   "execution_count": null,
   "metadata": {
    "collapsed": true
   },
   "outputs": [],
   "source": [
    "w = compute_w_log(hmm_7_state, translate_observations_to_indices(x_short))\n",
    "z_viterbi_log = backtrack_log(w)"
   ]
  },
  {
   "cell_type": "markdown",
   "metadata": {},
   "source": [
    "Now do the same for `x_long`. What happens?"
   ]
  },
  {
   "cell_type": "code",
   "execution_count": null,
   "metadata": {
    "collapsed": true
   },
   "outputs": [],
   "source": [
    "# Your code here ..."
   ]
  },
  {
   "cell_type": "markdown",
   "metadata": {},
   "source": [
    "### Does it work?"
   ]
  },
  {
   "cell_type": "markdown",
   "metadata": {},
   "source": [
    "Think about how to verify that your implementations of Viterbi (i.e. `compute_w`, `opt_path_prob`, `backtrack`, and there log-transformed variants `compute_w_log`, `opt_path_prob_log`, `backtrack_log`) are correct.\n",
    "\n",
    "One thing that should hold is that the probability of a most likely path as computed by `opt_path_prob` (or `opt_path_prob_log`) for a given sequence of observables (e.g. `x_short` or `x_long`) should be equal to the joint probability of a corresponding most probable path as found by `backtrack` (or `backtrack_log`) and the given sequence of observables. Why?\n",
    "\n",
    "Make an experiment that validates that this is the case for your implementations of Viterbi and `x_short` and `x_long`. You use your code from last week to compute the joint probability"
   ]
  },
  {
   "cell_type": "code",
   "execution_count": 2,
   "metadata": {
    "collapsed": true
   },
   "outputs": [],
   "source": [
    "# Check that opt_path_prob is equal to joint_prob(hmm_7_state, x_short, z_viterbi)\n",
    "\n",
    "# Your code here ...\n",
    "\n",
    "# Check that opt_path_prob_log is equal to joint_prob_log(hmm_7_state, x_short, z_viterbi_log)\n",
    "\n",
    "# Your code here ...\n",
    "\n",
    "# Do the above checks for x_long ...\n",
    "\n",
    "# Your code here ...\n",
    "\n",
    "# Do the above checks using hmm_3_state\n",
    "\n",
    "# Your code here ..."
   ]
  },
  {
   "cell_type": "markdown",
   "metadata": {},
   "source": [
    "Do your implementations pass the above checks?"
   ]
  },
  {
   "cell_type": "markdown",
   "metadata": {},
   "source": [
    "### Does log transformation matter?"
   ]
  },
  {
   "cell_type": "markdown",
   "metadata": {},
   "source": [
    "Make an experiment that investigates how long the input string can be before `backtrack` and `backtrack_log` start to disagree on a most likely path and its probability."
   ]
  },
  {
   "cell_type": "code",
   "execution_count": null,
   "metadata": {
    "collapsed": true
   },
   "outputs": [],
   "source": [
    "# Your code here ..."
   ]
  },
  {
   "cell_type": "markdown",
   "metadata": {},
   "source": [
    "** Your answer here: **\n",
    "\n",
    "For the 3-state model, `backtrack` and `backtrack_log` start to disagree on a most likely path and its probability\n",
    "for **i = ? **.\n",
    "\n",
    "For the 7-state model, `backtrack` and `backtrack_log` start to disagree on a most likely path and its probability\n",
    "for **i = ? ** .\n",
    "\n"
   ]
  }
 ],
 "metadata": {
  "anaconda-cloud": {},
  "kernelspec": {
   "display_name": "Python 3",
   "language": "python",
   "name": "python3"
  },
  "language_info": {
   "codemirror_mode": {
    "name": "ipython",
    "version": 3
   },
   "file_extension": ".py",
   "mimetype": "text/x-python",
   "name": "python",
   "nbconvert_exporter": "python",
   "pygments_lexer": "ipython3",
   "version": "3.6.3"
  }
 },
 "nbformat": 4,
 "nbformat_minor": 1
}
