{
 "cells": [
  {
   "cell_type": "markdown",
   "metadata": {},
   "source": [
    "# Search trees\n",
    "\n",
    "For this notebook we use the explicit representation of binary trees. This representation makes it much easier to modify a tree since trees are represented as local `left` and `right` information rather than global lists."
   ]
  },
  {
   "cell_type": "code",
   "execution_count": 10,
   "metadata": {
    "collapsed": true
   },
   "outputs": [],
   "source": [
    "class TreeNode:\n",
    "    def __init__(self, value, left = None, right = None):\n",
    "        self.value = value\n",
    "        self.left = left\n",
    "        self.right = right"
   ]
  },
  {
   "cell_type": "markdown",
   "metadata": {},
   "source": [
    "For search trees, we are not necessarily guaranteed that all inner nodes have both a left and a right subtree, so it is possible for one but not both to be `None`. Keep this in mind if you want to write a new display function."
   ]
  },
  {
   "cell_type": "code",
   "execution_count": 11,
   "metadata": {
    "collapsed": true
   },
   "outputs": [],
   "source": [
    "def display_tree(tree):\n",
    "    if tree is None:\n",
    "        return \"\"\n",
    "    if tree.left is None and tree.right is None:\n",
    "        return str(tree.value)\n",
    "    \n",
    "    if tree.left is None:\n",
    "        subtree = \"({right})\".format(right = display_tree(tree.right))\n",
    "    elif tree.right is None:\n",
    "        subtree = \"({left})\".format(left = display_tree(tree.left))\n",
    "    else:\n",
    "        subtree = \"({left},{right})\".format(left = display_tree(tree.left),\n",
    "                                            right = display_tree(tree.right))\n",
    "    return \"{subtree}{value}\".format(subtree = subtree, value = tree.value)"
   ]
  },
  {
   "cell_type": "code",
   "execution_count": 12,
   "metadata": {
    "collapsed": false
   },
   "outputs": [
    {
     "data": {
      "text/plain": [
       "'(1,(4,7)6)3'"
      ]
     },
     "execution_count": 12,
     "metadata": {},
     "output_type": "execute_result"
    }
   ],
   "source": [
    "tree = TreeNode(3, TreeNode(1), TreeNode(6, TreeNode(4), TreeNode(7)))\n",
    "display_tree(tree)"
   ]
  },
  {
   "cell_type": "markdown",
   "metadata": {},
   "source": [
    "## Operations on a search tree\n",
    "\n",
    "Operations we typically want implemented on a search tree are `insert` (add an element to a tree), `member` (check if a value is in the tree), and `delete` (remove a value from the tree).\n",
    "\n",
    "### Member\n",
    "\n",
    "Of these operations, `member` is the simplest. You need to use the search tree property for searching, but otherwise you just need a simple recursive function."
   ]
  },
  {
   "cell_type": "code",
   "execution_count": 8,
   "metadata": {
    "collapsed": true
   },
   "outputs": [],
   "source": [
    "def member(tree, value):\n",
    "    if tree is None:\n",
    "        return False\n",
    "    if tree.value == value:\n",
    "        return True\n",
    "    if tree.value < value:\n",
    "        return member(tree.right, value)\n",
    "    else:\n",
    "        return member(tree.left, value)"
   ]
  },
  {
   "cell_type": "code",
   "execution_count": 9,
   "metadata": {
    "collapsed": false
   },
   "outputs": [
    {
     "name": "stdout",
     "output_type": "stream",
     "text": [
      "Is 0 in the tree? False\n",
      "Is 1 in the tree? True\n",
      "Is 2 in the tree? False\n",
      "Is 3 in the tree? True\n",
      "Is 4 in the tree? True\n",
      "Is 5 in the tree? False\n",
      "Is 6 in the tree? True\n",
      "Is 7 in the tree? True\n",
      "Is 8 in the tree? False\n",
      "Is 9 in the tree? False\n"
     ]
    }
   ],
   "source": [
    "for v in range(10):\n",
    "    print(\"Is\", v, \"in the tree?\", member(tree, v))"
   ]
  },
  {
   "cell_type": "markdown",
   "metadata": {},
   "source": [
    "For modifying a search tree, it turns out to be simpler to write functions that create new trees rather than change the existing one (although it is a good exercise to try to implement the operations to modify a tree instead---you have to be careful about the special case of an empty tree, though).\n",
    "\n",
    "If we think in terms of modifying trees, we can handle the operations as simple transition rules, and writing recursive functions dealing with these is relatively straightforward.\n",
    "\n",
    "\n",
    "### Insert\n",
    "\n",
    "If we aim to implement the operations as recursive functions we have two cases we must deal with: empty trees and trees with children. When inserting a value into a tree, we must find out where to insert it and then update the tree. For the base case that we have an empty tree, we must create a singleton with the new value. For the recursive case, we have either found the value already present in the tree, or we must insert it in the left or right tree depending on the value in the current node."
   ]
  },
  {
   "cell_type": "code",
   "execution_count": 13,
   "metadata": {
    "collapsed": true
   },
   "outputs": [],
   "source": [
    "def insert(tree, value):\n",
    "    if tree is None:\n",
    "        return TreeNode(value)\n",
    "    else:\n",
    "        if tree.value == value:\n",
    "            return tree\n",
    "        elif tree.value < value:\n",
    "            return TreeNode(tree.value, tree.left, insert(tree.right, value))\n",
    "        else:\n",
    "            return TreeNode(tree.value, insert(tree.left, value), tree.right)"
   ]
  },
  {
   "cell_type": "markdown",
   "metadata": {},
   "source": [
    "Creating new `TreeNode` objects in the recursive cases, rather than simply assigning to `tree.left` or `tree.right` might seem odd to you, but it makes handling the empty tree simpler to return a new tree. It also makes the data structure *persistent*, meaning that other references to it are not affected by us modifying it here."
   ]
  },
  {
   "cell_type": "code",
   "execution_count": 17,
   "metadata": {
    "collapsed": false
   },
   "outputs": [
    {
     "name": "stdout",
     "output_type": "stream",
     "text": [
      "(((5)4)3)2\n"
     ]
    }
   ],
   "source": [
    "tree = None\n",
    "for i in range(2,6):\n",
    "    tree = insert(tree, i)\n",
    "print(display_tree(tree))"
   ]
  },
  {
   "cell_type": "code",
   "execution_count": 16,
   "metadata": {
    "collapsed": false
   },
   "outputs": [
    {
     "name": "stdout",
     "output_type": "stream",
     "text": [
      "Is 0 in the tree? False\n",
      "Is 1 in the tree? False\n",
      "Is 2 in the tree? True\n",
      "Is 3 in the tree? True\n",
      "Is 4 in the tree? True\n",
      "Is 5 in the tree? True\n",
      "Is 6 in the tree? False\n",
      "Is 7 in the tree? False\n",
      "Is 8 in the tree? False\n",
      "Is 9 in the tree? False\n"
     ]
    }
   ],
   "source": [
    "for v in range(10):\n",
    "    print(\"Is\", v, \"in the tree?\", member(tree, v))"
   ]
  },
  {
   "cell_type": "markdown",
   "metadata": {},
   "source": [
    "### Delete\n",
    "\n",
    "Deleting elements is a slightly more difficult operation. We have a recursive function, once again, and a case analysis for what to do in the basis case and the recursive case, but what makes deletion more difficult is that it is easy to delete a leaf---you just return an empty tree---but not so simple to delete an inner node.\n",
    "\n",
    "The trick is to reduce deleting inner nodes to deleting leaves (or nodes with a single child). What we can do is, if we find the value to delete in an inner node, we replace that value with the largest element in the tree smaller than the root and then delete that value from the left child.\n",
    "\n",
    "![Deleting in search tree](search-tree-delete.png)"
   ]
  },
  {
   "cell_type": "code",
   "execution_count": 19,
   "metadata": {
    "collapsed": true
   },
   "outputs": [],
   "source": [
    "def delete(tree, value):\n",
    "    if tree is None:\n",
    "        return None\n",
    "    if tree.value == value:\n",
    "        if tree.left is None:\n",
    "            return tree.right\n",
    "        if tree.right is None:\n",
    "            return tree.left\n",
    "        replacement_value = rightmost_value(tree.left)\n",
    "        return TreeNode(replacement_value, delete(tree.left, replacement_value), tree.right)\n",
    "    elif tree.value < value:\n",
    "        return TreeNode(tree.value, tree.left, delete(tree.right, value))\n",
    "    else:\n",
    "        return TreeNode(tree.value, delete(tree.left, value), tree.right)"
   ]
  },
  {
   "cell_type": "code",
   "execution_count": 20,
   "metadata": {
    "collapsed": false
   },
   "outputs": [
    {
     "name": "stdout",
     "output_type": "stream",
     "text": [
      "(5)2\n"
     ]
    }
   ],
   "source": [
    "tree = delete(tree, 3)\n",
    "tree = delete(tree, 4)\n",
    "print(display_tree(tree))"
   ]
  }
 ],
 "metadata": {
  "anaconda-cloud": {},
  "kernelspec": {
   "display_name": "Python [default]",
   "language": "python",
   "name": "python3"
  },
  "language_info": {
   "codemirror_mode": {
    "name": "ipython",
    "version": 3
   },
   "file_extension": ".py",
   "mimetype": "text/x-python",
   "name": "python",
   "nbconvert_exporter": "python",
   "pygments_lexer": "ipython3",
   "version": "3.5.2"
  }
 },
 "nbformat": 4,
 "nbformat_minor": 2
}
