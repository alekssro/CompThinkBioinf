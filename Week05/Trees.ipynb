{
 "cells": [
  {
   "cell_type": "markdown",
   "metadata": {},
   "source": [
    "# Representing trees\n",
    "\n",
    "There are usually many ways to represent any given abstract data structures. In Python, however, these ways will always be based on classes and objects, something that goes beyond this class. Therefore, I will just give you a few examples and hope you can figure out from those how trees can be traversed, at least.\n",
    "\n",
    "The way classes work is that we define a class with syntax similar to functions, but nested functions work as so-called methods and must always take an object as their first argument. Traditionally this object is called `self`. The way methods work is very similar to functions, except that the syntax for calling a method is slightly different. To call a function, `f`, on an object `x`, we write `f(x)`, while for a method we write `x.f()`. The reason we have both methods and functions is that methods can be \"polymorphic\", meaning that the actual function that is called when we write `x.f()` depends on the type of `x`. This goes beyond the scope of this class, however, so you should for now just think of methods as functions with a slightly different syntax.\n",
    "\n",
    "We can implement a binary tree recursively as a node with two subtrees like this:"
   ]
  },
  {
   "cell_type": "code",
   "execution_count": 16,
   "metadata": {
    "collapsed": true
   },
   "outputs": [],
   "source": [
    "class TreeNode:\n",
    "    def __init__(self, value, left = None, right = None):\n",
    "        self.value = value\n",
    "        self.left = left\n",
    "        self.right = right"
   ]
  },
  {
   "cell_type": "markdown",
   "metadata": {},
   "source": [
    "In this definition, I specify that a tree has a value in a node---this can be any object, but we will use numbers in the examples below---and will have two subtrees, `left` and `right`, that might be `None` if those subtrees are empty.\n",
    "\n",
    "We can construct a tree using this structure as follows:"
   ]
  },
  {
   "cell_type": "code",
   "execution_count": 17,
   "metadata": {},
   "outputs": [],
   "source": [
    "tree = TreeNode(3, TreeNode(1), TreeNode(6, TreeNode(4), TreeNode(7)))"
   ]
  },
  {
   "cell_type": "markdown",
   "metadata": {},
   "source": [
    "To traverse trees, we can use recursive functions. Here, basic cases are empty trees, represented as `None`. Leaves are nodes with both children equal to `None`. Depending on the application, we might allow one but not the other child to be `None`. In the following I will assume that either both children are `None` or both are proper nodes. With that assumption, we can write code for displaying a tree like this:"
   ]
  },
  {
   "cell_type": "code",
   "execution_count": 23,
   "metadata": {},
   "outputs": [],
   "source": [
    "def is_leaf(tree):\n",
    "    return tree.left is None and tree.right is None\n",
    "\n",
    "def display_tree(tree):\n",
    "    if is_leaf(tree):\n",
    "        return str(tree.value)\n",
    "    else:\n",
    "        return \"({left},{right}){value}\".format(value = str(tree.value),\n",
    "                                                left = display_tree(tree.left), \n",
    "                                                right = display_tree(tree.right))"
   ]
  },
  {
   "cell_type": "markdown",
   "metadata": {},
   "source": [
    "The function will display the tree in [Newick format](https://en.wikipedia.org/wiki/Newick_format). For the example tree we created above, we get this result:"
   ]
  },
  {
   "cell_type": "code",
   "execution_count": 22,
   "metadata": {},
   "outputs": [
    {
     "name": "stdout",
     "output_type": "stream",
     "text": [
      "(1,(4,7)6)3\n"
     ]
    }
   ],
   "source": [
    "print(display_tree(tree))"
   ]
  },
  {
   "cell_type": "markdown",
   "metadata": {},
   "source": [
    "Explicitly representing tree nodes as objects is not the only way we can represent a tree. Instead of representing each node explicitly we can, for example, represent a tree as lists of left and right children and a list of node values."
   ]
  },
  {
   "cell_type": "code",
   "execution_count": 24,
   "metadata": {
    "collapsed": true
   },
   "outputs": [],
   "source": [
    "class Tree:\n",
    "    def __init__(self, values, left, right):\n",
    "        self.values_ = values\n",
    "        self.left_ = left\n",
    "        self.right_ = right\n",
    "        \n",
    "    def value(self, node):\n",
    "        return self.values_[node]\n",
    "        \n",
    "    def left(self, node):\n",
    "        return self.left_[node]\n",
    "    \n",
    "    def right(self, node):\n",
    "        return self.right_[node]"
   ]
  },
  {
   "cell_type": "markdown",
   "metadata": {},
   "source": [
    "This representation is more primitive, but also easier to translate into lower level programming langauges since it doesn't require any highlevel object-oriented constructions. We do have three methods, though, for accessing values and children instead of directly accessing the lists.\n",
    "\n",
    "The tree we constructed using explicit nodes above would have this form in the new representation:"
   ]
  },
  {
   "cell_type": "code",
   "execution_count": 26,
   "metadata": {
    "collapsed": true
   },
   "outputs": [],
   "source": [
    "values = [3, 1, 6, 4, 7]\n",
    "left = [1, None, 3, None, None]\n",
    "right = [2, None, 4, None, None]\n",
    "tree = Tree(values, left, right)"
   ]
  },
  {
   "cell_type": "markdown",
   "metadata": {},
   "source": [
    "The actual tree structure is harder to read ouot of these lists than it is in the explicit construction from above, but it is simply a matter of assigning nodes to indices and letting `left` and `right` point to the correct indices.\n",
    "\n",
    "We can  update the display code to use this representation by changing the `is_leaf` and `display_tree` functions to take an extra argument and operate both on the tree and a node index. Very little changes otherwise:"
   ]
  },
  {
   "cell_type": "code",
   "execution_count": 33,
   "metadata": {
    "collapsed": true
   },
   "outputs": [],
   "source": [
    "def is_leaf(tree, node):\n",
    "    return tree.left(node) is None and tree.right(node) is None\n",
    "\n",
    "def display_tree(tree, node):\n",
    "    if is_leaf(tree, node):\n",
    "        return str(tree.value(node))\n",
    "    else:\n",
    "        return \"({left},{right}){value}\".format(value = str(tree.value(node)),\n",
    "                                                left = display_tree(tree, tree.left(node)), \n",
    "                                                right = display_tree(tree, tree.right(node)))"
   ]
  },
  {
   "cell_type": "markdown",
   "metadata": {},
   "source": [
    "To call the `display_tree` function we now need to provide a node as well, and the root we have put at index `0`, so that is what we will use:"
   ]
  },
  {
   "cell_type": "code",
   "execution_count": 34,
   "metadata": {},
   "outputs": [
    {
     "name": "stdout",
     "output_type": "stream",
     "text": [
      "(1,(4,7)6)3\n"
     ]
    }
   ],
   "source": [
    "print(display_tree(tree, 0))"
   ]
  }
 ],
 "metadata": {
  "kernelspec": {
   "display_name": "Python 3",
   "language": "python",
   "name": "python3"
  },
  "language_info": {
   "codemirror_mode": {
    "name": "ipython",
    "version": 3
   },
   "file_extension": ".py",
   "mimetype": "text/x-python",
   "name": "python",
   "nbconvert_exporter": "python",
   "pygments_lexer": "ipython3",
   "version": "3.5.2"
  }
 },
 "nbformat": 4,
 "nbformat_minor": 2
}
