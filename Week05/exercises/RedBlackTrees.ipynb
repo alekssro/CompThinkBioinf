{
 "cells": [
  {
   "cell_type": "markdown",
   "metadata": {},
   "source": [
    "# Red-black search trees\n",
    "\n",
    "In this notebook we will explore search trees. We will work from the implementation in the search tree note, but ignore the `delete` function."
   ]
  },
  {
   "cell_type": "code",
   "execution_count": 1,
   "metadata": {
    "collapsed": true
   },
   "outputs": [],
   "source": [
    "class TreeNode:\n",
    "    def __init__(self, value, left = None, right = None):\n",
    "        self.value = value\n",
    "        self.left = left\n",
    "        self.right = right\n",
    "        \n",
    "def display_tree(tree):\n",
    "    if tree is None:\n",
    "        return \"\"\n",
    "    if tree.left is None and tree.right is None:\n",
    "        return str(tree.value)\n",
    "    \n",
    "    if tree.left is None:\n",
    "        subtree = \"({right})\".format(right = display_tree(tree.right))\n",
    "    elif tree.right is None:\n",
    "        subtree = \"({left})\".format(left = display_tree(tree.left))\n",
    "    else:\n",
    "        subtree = \"({left},{right})\".format(left = display_tree(tree.left),\n",
    "                                            right = display_tree(tree.right))\n",
    "    return \"{subtree}{value}\".format(subtree = subtree, value = tree.value)\n",
    "\n",
    "def insert(tree, value):\n",
    "    if tree is None:\n",
    "        return TreeNode(value)\n",
    "    else:\n",
    "        if tree.value == value:\n",
    "            return tree\n",
    "        elif tree.value < value:\n",
    "            return TreeNode(tree.value, tree.left, insert(tree.right, value))\n",
    "        else:\n",
    "            return TreeNode(tree.value, insert(tree.left, value), tree.right)\n",
    "        \n",
    "def member(tree, value):\n",
    "    if tree is None:\n",
    "        return False\n",
    "    if tree.value == value:\n",
    "        return True\n",
    "    if tree.value < value:\n",
    "        return member(tree.right, value)\n",
    "    else:\n",
    "        return member(tree.left, value)"
   ]
  },
  {
   "cell_type": "code",
   "execution_count": 2,
   "metadata": {},
   "outputs": [
    {
     "name": "stdout",
     "output_type": "stream",
     "text": [
      "(((((((((9)8)7)6)5)4)3)2)1)0\n"
     ]
    }
   ],
   "source": [
    "tree = None\n",
    "for i in range(10):\n",
    "    tree = insert(tree, i)\n",
    "print(display_tree(tree))"
   ]
  },
  {
   "cell_type": "markdown",
   "metadata": {},
   "source": [
    "The time it takes to do `insert` and `member` operations depend on the size and the shape of a search tree. In the worst case, both will have to traverse the longest path from root to a leaf. How long this path is, depends on how the tree was constructed--in particular it depends on the order in which we inserted elements. We can observe this if we consider two different approaches to building trees over the same sequence of elements, one that inserts the element in increasing order, and one that inserts them in a random order"
   ]
  },
  {
   "cell_type": "code",
   "execution_count": 3,
   "metadata": {},
   "outputs": [],
   "source": [
    "def tree_depth(tree):\n",
    "    if tree is None:\n",
    "        return 0\n",
    "    return 1 + max(tree_depth(tree.left), tree_depth(tree.right))\n",
    "\n",
    "def build_tree(values):\n",
    "    tree = None\n",
    "    for v in values:\n",
    "        tree = insert(tree, v)\n",
    "    return tree\n",
    "\n",
    "def sequential_tree_size(n):\n",
    "    return tree_depth(build_tree(range(n)))\n",
    "\n",
    "from numpy.random import permutation\n",
    "def random_tree_size(n):\n",
    "    return tree_depth(build_tree(permutation(n)))"
   ]
  },
  {
   "cell_type": "code",
   "execution_count": 4,
   "metadata": {},
   "outputs": [
    {
     "data": {
      "text/plain": [
       "<matplotlib.legend.Legend at 0x1007c5e10>"
      ]
     },
     "execution_count": 4,
     "metadata": {},
     "output_type": "execute_result"
    },
    {
     "data": {
      "image/png": "[encoded data removed]",
      "text/plain": [
       "<matplotlib.figure.Figure at 0x1051b4630>"
      ]
     },
     "metadata": {},
     "output_type": "display_data"
    }
   ],
   "source": [
    "%matplotlib inline\n",
    "import matplotlib.pyplot as plt\n",
    "\n",
    "ns = list(range(10,110,5))\n",
    "\n",
    "fig, ax = plt.subplots()\n",
    "ax.plot(ns, [sequential_tree_size(n) for n in ns], label = \"Inserted in order\")\n",
    "ax.plot(ns, [random_tree_size(n) for n in ns], label = \"Inserted in permuted order\")\n",
    "ax.legend(loc='upper left')"
   ]
  },
  {
   "cell_type": "markdown",
   "metadata": {},
   "source": [
    "When we insert the elements in sorted order, we get a maximally unbalanced tree. Each new element has to be inserted as the rightmost element in the new tree, and the result is a tree that consists of one long chain of nodes going to the right. If we inserted elements in the reverse order, we would get a similar tree that was left-heavy instead.\n",
    "\n",
    "If we insert elements in random order, we alleviate this problem. We will, in fact, expect to get a reasonably balanced tree. Since a balanced tree of size $n$ has a depth in $O(\\log n)$, the `insert` and `member` operations are much faster for balanced trees. Of course, since the actual depth depends on the random permutation, and since the $\\log n$ optimal depth is only achieved for perfectly balanced trees, we expect the depth to be slightly higher than $\\log n$, but our goals for this notebook is to implement a version of search trees that has worst-case depth between $\\log n$ and $2\\lceil\\log(n)\\rceil$."
   ]
  },
  {
   "cell_type": "code",
   "execution_count": 5,
   "metadata": {},
   "outputs": [
    {
     "data": {
      "text/plain": [
       "<matplotlib.legend.Legend at 0x110720240>"
      ]
     },
     "execution_count": 5,
     "metadata": {},
     "output_type": "execute_result"
    },
    {
     "data": {
      "image/png": "[encoded data removed]",
      "text/plain": [
       "<matplotlib.figure.Figure at 0x10d0846a0>"
      ]
     },
     "metadata": {},
     "output_type": "display_data"
    }
   ],
   "source": [
    "%matplotlib inline\n",
    "import matplotlib.pyplot as plt\n",
    "from math import log, ceil\n",
    "\n",
    "ns = list(range(10,110,5))\n",
    "\n",
    "fig, ax = plt.subplots()\n",
    "ax.plot(ns, [log(n) for n in ns], label = r\"$\\log(n)$\")\n",
    "ax.plot(ns, [2*ceil(log(n)) for n in ns], label = r\"$2\\lceil\\log(n)\\rceil$\")\n",
    "ax.plot(ns, [random_tree_size(n) for n in ns], label = \"Inserted in permuted order\")\n",
    "ax.legend(loc='upper left')"
   ]
  },
  {
   "cell_type": "markdown",
   "metadata": {},
   "source": [
    "## Red-black search trees\n",
    "\n",
    "The trick to getting good performance out of search trees is to keep them balanced. Inserting elements in a random order gets us an expected balanced tree, but we cannot always just permute input data and even if we could it would be *expected* logarithmic performance, not worst-case logarithmic performance. To get worst-case $O(\\log n)$ operations, we need to explicitly rebalance trees when they become unbalanced.\n",
    "\n",
    "One strategy for keeping trees balanced is the [red-black tree](https://en.wikipedia.org/wiki/Red–black_tree) data structure. Here, we assign a colour, either red or black, to each node in the tree."
   ]
  },
  {
   "cell_type": "code",
   "execution_count": 6,
   "metadata": {
    "collapsed": true
   },
   "outputs": [],
   "source": [
    "RED = 0\n",
    "BLACK = 1\n",
    "\n",
    "class TreeNode:\n",
    "    def __init__(self, value, colour, left = None, right = None):\n",
    "        self.value = value\n",
    "        self.colour = colour\n",
    "        self.left = left\n",
    "        self.right = right"
   ]
  },
  {
   "cell_type": "markdown",
   "metadata": {},
   "source": [
    "The way we use these two colours to keep trees balanced is that we maintain the following three invariants:\n",
    "\n",
    "1. All elements to the left subtree of a node are smaller than the value in the node, and all elements in the right subtree are larger.\n",
    "2. All paths from root to a leaf have the same number of black nodes.\n",
    "3. A red node cannot have a red parent.\n",
    "\n",
    "The first invariant is just the search tree property. We need this invariant for all search trees for our `member` function to work correctly.\n",
    "\n",
    "Together, the other two invariants guarantee that the longest path from root to a leaf is no longer than twice the length of the shortest. The depth of a tree with $n$ elements is therefore at most $2\\lceil\\log n\\rceil$.\n",
    "\n",
    "Whenever we modify a tree, which since we ignore `delete` in these exercises means whenever we insert an element, we need to ensure that the invariants are maintained. The `insert` function we have above already guarantee the search tree invariant, but we need to add a rebalancing step to it to guarantee the other two. Any new tree we create when we recurse in `insert`, we will rebalance before we return.\n",
    "\n",
    "The code below does this. I have split the `insert` function in two. An `insert_recursion` function, that does the actual work, and an `insert` function that calls the `insert_recursion` function and sets the root colour to black. Setting the root colour to black will never invalidate any of the invariants. It might add a black node to all paths from root to a leaf, but that does not invalidate invariant two, and since we do not modify the tree structure or create any red nodes, the other two invariants are not affected by this. Setting the root colour to black, however, if it is already red, could ensure the third invariant in case any of the root's children are coloured red."
   ]
  },
  {
   "cell_type": "code",
   "execution_count": 7,
   "metadata": {
    "collapsed": true
   },
   "outputs": [],
   "source": [
    "def insert(tree, value):\n",
    "    tree = insert_recursion(tree, value)\n",
    "    tree.colour = BLACK\n",
    "    return tree"
   ]
  },
  {
   "cell_type": "markdown",
   "metadata": {},
   "source": [
    "The `insert_recursion` function follows the same pattern as the original `insert` function, but we call a function to `rebalance` the tree we construct before we return:"
   ]
  },
  {
   "cell_type": "code",
   "execution_count": 8,
   "metadata": {
    "collapsed": true
   },
   "outputs": [],
   "source": [
    "def insert_recursion(tree, value):\n",
    "    if tree is None:\n",
    "        return TreeNode(value, RED)\n",
    "    if tree.value == value:\n",
    "        return tree\n",
    "    elif tree.value < value:\n",
    "        return rebalance(TreeNode(tree.value, tree.colour, tree.left, insert_recursion(tree.right, value)))\n",
    "    else:\n",
    "        return rebalance(TreeNode(tree.value, tree.colour, insert_recursion(tree.left, value), tree.right))"
   ]
  },
  {
   "cell_type": "markdown",
   "metadata": {},
   "source": [
    "When we insert a new leaf, we colour it red. This cannot invalidate invariant two, but it might invalidate invariant three if the leaf we insert has a red parent. We use `rebalance` to transform trees that violate the \"red parent to red child\" invariant. The way we insert elements, we can at most have one violation of this invariant, and we will bubble it up the tree. There are four tree topologies where we have one violation of the rule, and for all of them, we transform the tree into another that satisfy all the invariants. The transformations look like this:\n",
    "\n",
    "![](figures/RBT-transformations.png)\n",
    "\n",
    "After the transformation, the local tree satisfy all invariants. The global tree might still violate invariant three, though, if the parent of the transformed tree is red. This, however, will be handled by the rebalancing function called earlier in the insertion recursion. Thus, the red node violating the invariant bubbles up towards the root, and if it reaches the root, we get rid of it when we colour the root black.\n",
    "\n",
    "To implement this red-black strategy, all we have to do is make `rebalance` recognize the four cases and return the middle tree instead of them. We can split this function into two. One that tries to recognize the trees to be transformed, and one that does the transformation. The `rebalance` tree below handles the transformation in cases where the `match_tree_patern` function returns a match."
   ]
  },
  {
   "cell_type": "code",
   "execution_count": 9,
   "metadata": {
    "collapsed": true
   },
   "outputs": [],
   "source": [
    "def rebalance(tree):\n",
    "    is_match, a, b, c, d, x, y, z = match_tree_pattern(tree)\n",
    "    if is_match:\n",
    "        return TreeNode(y, colour = RED, \n",
    "                        left = TreeNode(x, colour = BLACK, left = a, right = b),\n",
    "                        right = TreeNode(z, colour = BLACK, left = c, right = d))\n",
    "    else:\n",
    "        return tree"
   ]
  },
  {
   "cell_type": "markdown",
   "metadata": {},
   "source": [
    "Now, all that remains, is implementing the `match_tree_pattern` function. We want it to return a boolean value indicating if the tree is a match, and if it is, it should match the trees and values indicated in the figure. The function below matches the first case. Implement the other three cases."
   ]
  },
  {
   "cell_type": "code",
   "execution_count": 10,
   "metadata": {
    "collapsed": true
   },
   "outputs": [],
   "source": [
    "def match_tree_pattern(tree):\n",
    "    if tree is not None and tree.left is not None and tree.left.right is not None and \\\n",
    "        tree.colour == BLACK and tree.left.colour == RED and tree.left.right.colour == RED:\n",
    "            x, y, z = tree.left.value, tree.value, tree.left.right.value\n",
    "            a, b = tree.left.left, tree.left.right.left\n",
    "            c, d = tree.left.right.left, tree.right\n",
    "            return True, a, b, c, d, x, y, z\n",
    "        \n",
    "    # Implement the other three matches\n",
    "    \n",
    "    return False, None, None, None, None, None, None, None"
   ]
  },
  {
   "cell_type": "markdown",
   "metadata": {},
   "source": [
    "We can check that the new implementation works by creating some random trees and making sure that we can find all elements in them again:"
   ]
  },
  {
   "cell_type": "code",
   "execution_count": 11,
   "metadata": {},
   "outputs": [],
   "source": [
    "ns = permutation(10)\n",
    "tree = None\n",
    "for n in ns:\n",
    "    tree = insert(tree, n)\n",
    "for n in ns:\n",
    "    if not member(tree, n):\n",
    "        print(n, \"is missing from\", display_tree(tree))\n",
    "        \n",
    "ns = permutation(10)\n",
    "tree = None\n",
    "for n in ns:\n",
    "    tree = insert(tree, n)\n",
    "for n in ns:\n",
    "    if not member(tree, n):\n",
    "        print(n, \"is missing from\", display_tree(tree))\n",
    "        \n",
    "ns = permutation(10)\n",
    "tree = None\n",
    "for n in ns:\n",
    "    tree = insert(tree, n)\n",
    "for n in ns:\n",
    "    if not member(tree, n):\n",
    "        print(n, \"is missing from\", display_tree(tree))"
   ]
  },
  {
   "cell_type": "markdown",
   "metadata": {},
   "source": [
    "As a check that the balancing works, we can plot the depth of trees against $2\\lceil\\log n\\rceil$. The depth should always be less than or equal to $2\\lceil\\log n\\rceil$."
   ]
  },
  {
   "cell_type": "code",
   "execution_count": 12,
   "metadata": {},
   "outputs": [
    {
     "data": {
      "text/plain": [
       "<matplotlib.legend.Legend at 0x110ae1f28>"
      ]
     },
     "execution_count": 12,
     "metadata": {},
     "output_type": "execute_result"
    },
    {
     "data": {
      "image/png": "[encoded data removed]",
      "text/plain": [
       "<matplotlib.figure.Figure at 0x11067ae10>"
      ]
     },
     "metadata": {},
     "output_type": "display_data"
    }
   ],
   "source": [
    "%matplotlib inline\n",
    "import matplotlib.pyplot as plt\n",
    "from math import log, ceil\n",
    "\n",
    "ns = list(range(10,110,5))\n",
    "\n",
    "fig, ax = plt.subplots()\n",
    "ax.plot(ns, [2*ceil(log(n)) for n in ns], label = r\"$2\\lceil\\log(n)\\rceil$\")\n",
    "ax.plot(ns, [sequential_tree_size(n) for n in ns], label = \"Order\")\n",
    "ax.plot(ns, [random_tree_size(n) for n in ns], label = \"Permuted\")\n",
    "ax.legend(loc='upper left')"
   ]
  },
  {
   "cell_type": "markdown",
   "metadata": {},
   "source": [
    "We can write a number of additional functions to validate the invariants and the balance of the tree. Do these exercises:\n",
    "\n",
    "### Balance property\n",
    "\n",
    "Write a function that computes the longest and the shortest path from root to a leaf. Use it to check that the longest path is at most twice the length of the shortest."
   ]
  },
  {
   "cell_type": "code",
   "execution_count": 13,
   "metadata": {
    "collapsed": true
   },
   "outputs": [],
   "source": [
    "def check_balance_property(tree):\n",
    "    pass"
   ]
  },
  {
   "cell_type": "markdown",
   "metadata": {},
   "source": [
    "### Red property\n",
    "\n",
    "Write a function that checks that no red child has a red parent."
   ]
  },
  {
   "cell_type": "code",
   "execution_count": 14,
   "metadata": {
    "collapsed": true
   },
   "outputs": [],
   "source": [
    "def check_red_property(tree):\n",
    "    pass"
   ]
  },
  {
   "cell_type": "markdown",
   "metadata": {},
   "source": [
    "In a depth first recursion, it is probably easier to change the property to \"no red parent has a red child\". The property is the same, but it is easier to check the property in a recursion from the parent's perspective.\n",
    "\n",
    "### Black property\n",
    "\n",
    "Write a function that check that all paths from root to a leaf have the same number of black nodes."
   ]
  },
  {
   "cell_type": "code",
   "execution_count": 15,
   "metadata": {
    "collapsed": true
   },
   "outputs": [],
   "source": [
    "def check_black_property(tree):\n",
    "    pass"
   ]
  },
  {
   "cell_type": "markdown",
   "metadata": {},
   "source": [
    "For this function, you could write a recursion that returns both a `True/False` value, indicating if a subtree satisfy the property, and the depth of the tree, to let you check that against its sibling. You would then wrap that in a function that just return the boolean value."
   ]
  },
  {
   "cell_type": "code",
   "execution_count": 16,
   "metadata": {
    "collapsed": true
   },
   "outputs": [],
   "source": [
    "def check_black_property_recursion(tree):\n",
    "    # do stuff\n",
    "    return True, 0\n",
    "\n",
    "def check_black_property(tree):\n",
    "    satisfy_property, _ = check_black_property_recursion(tree)\n",
    "    return satisfy_property"
   ]
  }
 ],
 "metadata": {
  "kernelspec": {
   "display_name": "Python 3",
   "language": "python",
   "name": "python3"
  },
  "language_info": {
   "codemirror_mode": {
    "name": "ipython",
    "version": 3
   },
   "file_extension": ".py",
   "mimetype": "text/x-python",
   "name": "python",
   "nbconvert_exporter": "python",
   "pygments_lexer": "ipython3",
   "version": "3.5.2"
  }
 },
 "nbformat": 4,
 "nbformat_minor": 2
}
