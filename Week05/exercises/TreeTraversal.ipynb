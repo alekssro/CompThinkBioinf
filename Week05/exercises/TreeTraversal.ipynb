{
 "cells": [
  {
   "cell_type": "markdown",
   "metadata": {},
   "source": [
    "# Tree traversal exercises\n",
    "\n",
    "In this notebook we use the explicit tree representation"
   ]
  },
  {
   "cell_type": "code",
   "execution_count": 1,
   "metadata": {
    "collapsed": true
   },
   "outputs": [],
   "source": [
    "class TreeNode:\n",
    "    def __init__(self, value, left = None, right = None):\n",
    "        self.value = value\n",
    "        self.left = left\n",
    "        self.right = right"
   ]
  },
  {
   "cell_type": "markdown",
   "metadata": {},
   "source": [
    "You can use the following function to display trees you construct, for debugging purposes."
   ]
  },
  {
   "cell_type": "code",
   "execution_count": 2,
   "metadata": {
    "collapsed": true
   },
   "outputs": [],
   "source": [
    "def display_tree(tree):\n",
    "    if tree is None:\n",
    "        return \"\"\n",
    "    if tree.left is None and tree.right is None:\n",
    "        return str(tree.value)\n",
    "    \n",
    "    if tree.left is None:\n",
    "        subtree = \"({right})\".format(right = display_tree(tree.right))\n",
    "    elif tree.right is None:\n",
    "        subtree = \"({left})\".format(left = display_tree(tree.left))\n",
    "    else:\n",
    "        subtree = \"({left},{right})\".format(left = display_tree(tree.left),\n",
    "                                            right = display_tree(tree.right))\n",
    "    return \"{subtree}{value}\".format(subtree = subtree, value = tree.value)"
   ]
  },
  {
   "cell_type": "markdown",
   "metadata": {},
   "source": [
    "Most algorithms operating on trees involves recursive traversals of these. In this notebook, we will exercise such algorithms.\n",
    "\n",
    "The general for of so-called *depth first* traversal--traversal where you process the children of a node before the node itself--is the structure you see in the `display_tree` function above. At its most abstract, the structure is this:"
   ]
  },
  {
   "cell_type": "code",
   "execution_count": 3,
   "metadata": {
    "collapsed": true
   },
   "outputs": [],
   "source": [
    "def depth_first_traversal(tree):\n",
    "    if tree is None:\n",
    "        # do something and then \n",
    "        return\n",
    "    depth_first_traversal(tree.left)\n",
    "    depth_first_traversal(tree.right)\n",
    "    # process tree and \n",
    "    return # the result"
   ]
  },
  {
   "cell_type": "markdown",
   "metadata": {},
   "source": [
    "## Summarising values\n",
    "\n",
    "Many tree algorithms involves summarising the values in the tree in some way. The following computes the sum of all the values in a tree:"
   ]
  },
  {
   "cell_type": "code",
   "execution_count": 4,
   "metadata": {
    "collapsed": true
   },
   "outputs": [],
   "source": [
    "def add_values(tree):\n",
    "    if tree is None:\n",
    "        return 0\n",
    "    left_sum = add_values(tree.left)\n",
    "    right_sum = add_values(tree.right)\n",
    "    return tree.value + left_sum + right_sum"
   ]
  },
  {
   "cell_type": "code",
   "execution_count": 6,
   "metadata": {},
   "outputs": [
    {
     "name": "stdout",
     "output_type": "stream",
     "text": [
      "(1,(4,7)6)3\n"
     ]
    },
    {
     "data": {
      "text/plain": [
       "21"
      ]
     },
     "execution_count": 6,
     "metadata": {},
     "output_type": "execute_result"
    }
   ],
   "source": [
    "tree = TreeNode(3, TreeNode(1), TreeNode(6, TreeNode(4), TreeNode(7)))\n",
    "print(display_tree(tree))\n",
    "add_values(tree)"
   ]
  },
  {
   "cell_type": "markdown",
   "metadata": {},
   "source": [
    "Write a similar function for computing the product of the values in the tree. Which parts do you need to change?"
   ]
  },
  {
   "cell_type": "code",
   "execution_count": 18,
   "metadata": {
    "collapsed": true
   },
   "outputs": [],
   "source": [
    "def multiply_values(tree):\n",
    "    pass"
   ]
  },
  {
   "cell_type": "markdown",
   "metadata": {},
   "source": [
    "Write other functions for computing the minimal and maximal value in a tree."
   ]
  },
  {
   "cell_type": "code",
   "execution_count": null,
   "metadata": {
    "collapsed": true
   },
   "outputs": [],
   "source": [
    "def min_value(tree):\n",
    "    pass\n",
    "\n",
    "def max_value(tree):\n",
    "    pass"
   ]
  },
  {
   "cell_type": "markdown",
   "metadata": {},
   "source": [
    "We can generalise the idea of the depth first summary. They are all based on having a default value for empty trees and then combining the value at a node with the results of recursive calls. We can implement a version that simply takes the default value and a function for summarising. It looks like this:"
   ]
  },
  {
   "cell_type": "code",
   "execution_count": 8,
   "metadata": {
    "collapsed": true
   },
   "outputs": [],
   "source": [
    "def summarise(tree, summary, default):\n",
    "    if tree is None:\n",
    "        return default\n",
    "    left_summary = summarise(tree.left, summary, default)\n",
    "    right_summary = summarise(tree.right, summary, default)\n",
    "    return summary(tree.value, left_summary, right_summary)"
   ]
  },
  {
   "cell_type": "code",
   "execution_count": 15,
   "metadata": {},
   "outputs": [
    {
     "data": {
      "text/plain": [
       "21"
      ]
     },
     "execution_count": 15,
     "metadata": {},
     "output_type": "execute_result"
    }
   ],
   "source": [
    "summarise(tree, lambda x,y,z: x + y + z, 0)"
   ]
  },
  {
   "cell_type": "code",
   "execution_count": 16,
   "metadata": {},
   "outputs": [
    {
     "data": {
      "text/plain": [
       "504"
      ]
     },
     "execution_count": 16,
     "metadata": {},
     "output_type": "execute_result"
    }
   ],
   "source": [
    "summarise(tree, lambda x,y,z: x * y * z, 1)"
   ]
  },
  {
   "cell_type": "code",
   "execution_count": 13,
   "metadata": {},
   "outputs": [
    {
     "data": {
      "text/plain": [
       "1"
      ]
     },
     "execution_count": 13,
     "metadata": {},
     "output_type": "execute_result"
    }
   ],
   "source": [
    "summarise(tree, min, float(\"inf\"))"
   ]
  },
  {
   "cell_type": "code",
   "execution_count": 14,
   "metadata": {},
   "outputs": [
    {
     "data": {
      "text/plain": [
       "7"
      ]
     },
     "execution_count": 14,
     "metadata": {},
     "output_type": "execute_result"
    }
   ],
   "source": [
    "summarise(tree, max, float(\"-inf\"))"
   ]
  },
  {
   "cell_type": "markdown",
   "metadata": {},
   "source": [
    "If this looks a bit complicated to you, do not worry. It is not essential that you understand it. I just wanted to show you how we can write more generic code for exploring trees.\n",
    "\n",
    "## Exploring the tree structure\n",
    "\n",
    "We can do more than summarise the values in a tree; we can also explore the structure of the tree. The following function computes the number of nodes in a tree:"
   ]
  },
  {
   "cell_type": "code",
   "execution_count": 19,
   "metadata": {
    "collapsed": true
   },
   "outputs": [],
   "source": [
    "def tree_size(tree):\n",
    "    if tree is None:\n",
    "        return 0\n",
    "    return 1 + tree_size(tree.left) + tree_size(tree.right)"
   ]
  },
  {
   "cell_type": "code",
   "execution_count": 20,
   "metadata": {},
   "outputs": [
    {
     "name": "stdout",
     "output_type": "stream",
     "text": [
      "(1,(4,7)6)3\n"
     ]
    },
    {
     "data": {
      "text/plain": [
       "5"
      ]
     },
     "execution_count": 20,
     "metadata": {},
     "output_type": "execute_result"
    }
   ],
   "source": [
    "print(display_tree(tree))\n",
    "tree_size(tree)"
   ]
  },
  {
   "cell_type": "markdown",
   "metadata": {},
   "source": [
    "This function computes the maximal depth a leaf can be found at in a tree:"
   ]
  },
  {
   "cell_type": "code",
   "execution_count": 21,
   "metadata": {
    "collapsed": true
   },
   "outputs": [],
   "source": [
    "def tree_depth(tree):\n",
    "    if tree is None:\n",
    "        return 0\n",
    "    return 1 + max(tree_depth(tree.left), tree_depth(tree.right))"
   ]
  },
  {
   "cell_type": "code",
   "execution_count": 22,
   "metadata": {},
   "outputs": [
    {
     "data": {
      "text/plain": [
       "3"
      ]
     },
     "execution_count": 22,
     "metadata": {},
     "output_type": "execute_result"
    }
   ],
   "source": [
    "tree_depth(tree)"
   ]
  },
  {
   "cell_type": "markdown",
   "metadata": {},
   "source": [
    "As you can see, the structure of recursive functions are very similar for these types of functions as for the functions that summarise the node values.\n",
    "\n",
    "Write a function that computes both the minimal and maximal depth."
   ]
  },
  {
   "cell_type": "code",
   "execution_count": 23,
   "metadata": {
    "collapsed": true
   },
   "outputs": [],
   "source": [
    "def tree_min_max_depth(tree):\n",
    "    pass"
   ]
  },
  {
   "cell_type": "markdown",
   "metadata": {},
   "source": [
    "If you feel brave, you can try to write a generic function that explores the tree structure following the ideas in the `summarise` function from above."
   ]
  }
 ],
 "metadata": {
  "kernelspec": {
   "display_name": "Python 3",
   "language": "python",
   "name": "python3"
  },
  "language_info": {
   "codemirror_mode": {
    "name": "ipython",
    "version": 3
   },
   "file_extension": ".py",
   "mimetype": "text/x-python",
   "name": "python",
   "nbconvert_exporter": "python",
   "pygments_lexer": "ipython3",
   "version": "3.5.2"
  }
 },
 "nbformat": 4,
 "nbformat_minor": 2
}
