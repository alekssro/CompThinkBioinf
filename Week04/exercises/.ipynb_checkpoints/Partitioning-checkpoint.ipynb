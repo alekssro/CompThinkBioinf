{
 "cells": [
  {
   "cell_type": "markdown",
   "metadata": {},
   "source": [
    "# The partitioning problem\n",
    "\n",
    "In this exercise we want to solve the so-called *partitioning problem*. This problem takes as input a list, `x`, of length $N$, and your task is to partition `x` into $K$ different contiguous parts such that the *largest* part is as small as possible.\n",
    "\n",
    "A part is a contiguous block, so the elements of `x` from some index `i` to another `j >= i`. The cost of the block is the sum of the elements \n",
    "\n",
    "$$S(i,j) = \\sum_{m=i}^{j-1} x[m]$$"
   ]
  },
  {
   "cell_type": "code",
   "execution_count": 1,
   "metadata": {
    "collapsed": true
   },
   "outputs": [],
   "source": [
    "# in this function I assume that x is a global variable\n",
    "def S(i, j):\n",
    "    return sum(x[m] for m in range(i, j))"
   ]
  },
  {
   "cell_type": "code",
   "execution_count": 2,
   "metadata": {
    "collapsed": false
   },
   "outputs": [
    {
     "name": "stdout",
     "output_type": "stream",
     "text": [
      "S(0,0) == 0\n",
      "S(0,1) == 2\n",
      "S(0,2) == 7\n",
      "S(0,3) == 10\n",
      "S(0,4) == 17\n",
      "S(0,5) == 22\n",
      "S(1,1) == 0\n",
      "S(1,2) == 5\n",
      "S(1,3) == 8\n",
      "S(1,4) == 15\n",
      "S(1,5) == 20\n",
      "S(2,2) == 0\n",
      "S(2,3) == 3\n",
      "S(2,4) == 10\n",
      "S(2,5) == 15\n",
      "S(3,3) == 0\n",
      "S(3,4) == 7\n",
      "S(3,5) == 12\n",
      "S(4,4) == 0\n",
      "S(4,5) == 5\n"
     ]
    }
   ],
   "source": [
    "x = [2, 5, 3, 7, 5]\n",
    "for i in range(len(x)):\n",
    "    for j in range(i, len(x)+1):\n",
    "        print(\"S({},{}) == {}\".format(i, j, S(i, j)))"
   ]
  },
  {
   "cell_type": "markdown",
   "metadata": {},
   "source": [
    "The cost of a given partitioning is the sum of the elements in the largest part. We are looking for the partitioning with the smallest cost, i.e. the partitioning where the largest cost part is as small as possible.\n",
    "\n",
    "For example, if `x` is the list \n",
    "\n",
    "```python\n",
    "x = [2, 5, 3, 7, 5]\n",
    "```\n",
    "\n",
    "we can split it into two partitions in the following ways:\n",
    "\n",
    "```python\n",
    "[] [2, 5, 3, 7, 5]\n",
    "[2] [5, 3, 7, 5]\n",
    "[2, 5] [3, 7, 5]\n",
    "[2, 5, 3] [7, 5]\n",
    "[2, 5, 3, 7] [5]\n",
    "[2, 5, 3, 7, 5] []\n",
    "```\n",
    "\n",
    "The cost of the first partition is 22, the second 20, the third 15, the fourth 12, the fifth 17, and the sixth 22. The best of these is the fourth with score 12.\n",
    "\n",
    "If we want to partition `x` into $K$ partitions we can come up with a recursive way to solve this. We can consider where to put the separater between the last partition and the previous partion. At some index `i` into `x`, the last partition must start. The cost of the last index is then `S(i,N)`. The cost of this partitioning must then be\n",
    "\n",
    "$$\\max\\left[ P(i,K-1), S(i,N) \\right]$$\n",
    "\n",
    "where $P(i, K-1)$ is the best partitioning of the array `x[0:i]` into $K-1$ partitions. The *best* partitioning of `x` into $K$ partitions is found by picking the optimal index `i`.\n",
    "\n",
    "$$P(N,K) = \\min_{i=0}^{N} \\left\\{ \\max\\left[ P(i,K-1), S(i,N) \\right] \\right\\}$$\n",
    "\n",
    "The basis cases are single partitions, where we have no choice but to put all elements in the same partition\n",
    "\n",
    "$$P(n,1) = S(0,n)$$\n",
    "\n",
    "for all $n$, and the empty prefix of `x` where the cost of any number of partitions is zero\n",
    "\n",
    "$$P(0,k) = 0$$\n",
    "\n",
    "for all $k$."
   ]
  },
  {
   "cell_type": "markdown",
   "metadata": {},
   "source": [
    "## Exercise\n",
    "\n",
    "Implement a function that computes $P(n,k)$ for any $n=0,\\ldots,N$ and $k\\geq 0$."
   ]
  },
  {
   "cell_type": "code",
   "execution_count": 3,
   "metadata": {
    "collapsed": false
   },
   "outputs": [
    {
     "name": "stdout",
     "output_type": "stream",
     "text": [
      "12 should be 12\n",
      "10 should be 10\n",
      "7 should be 7\n"
     ]
    }
   ],
   "source": [
    "def P(n, k):\n",
    "    pass\n",
    "\n",
    "N = len(x)\n",
    "\n",
    "print(P(N,2), \"should be 12\")\n",
    "print(P(N,3), \"should be 10\")\n",
    "print(P(N,4), \"should be 7\")"
   ]
  },
  {
   "cell_type": "markdown",
   "metadata": {},
   "source": [
    "## Making `S(i,j)` more efficient\n",
    "\n",
    "In the recursion, we call the `S(i,j)` function many times with the same indices `i` and `j`. Each time, we add up all the values from index `i` and `j`. We can make this more efficient by building a table of these at the beginning and then simply look up the values.\n",
    "\n",
    "We can build a table using the module `numpy` like this:"
   ]
  },
  {
   "cell_type": "code",
   "execution_count": 4,
   "metadata": {
    "collapsed": false
   },
   "outputs": [
    {
     "data": {
      "text/plain": [
       "array([[ 0.,  0.,  0.,  0.,  0.,  0.],\n",
       "       [ 0.,  0.,  0.,  0.,  0.,  0.],\n",
       "       [ 0.,  0.,  0.,  0.,  0.,  0.],\n",
       "       [ 0.,  0.,  0.,  0.,  0.,  0.],\n",
       "       [ 0.,  0.,  0.,  0.,  0.,  0.],\n",
       "       [ 0.,  0.,  0.,  0.,  0.,  0.]])"
      ]
     },
     "execution_count": 4,
     "metadata": {},
     "output_type": "execute_result"
    }
   ],
   "source": [
    "import numpy as np\n",
    "\n",
    "ST = np.zeros((N+1, N+1))\n",
    "ST"
   ]
  },
  {
   "cell_type": "markdown",
   "metadata": {},
   "source": [
    "Notice the extra set of parentheses when we call `np.zeros`. Those are necessary to get a two-dimensional table. Notice also that we make the size of the table $(N+1) \\times (N+1)$. We plan to look up sums that end in index $N$, so we need to be able to index $N$ in the columns, thus we need to allocate one extra column for this.\n",
    "\n",
    "### Exercise\n",
    "\n",
    "Write code to fill in the values in the `ST` table."
   ]
  },
  {
   "cell_type": "code",
   "execution_count": 5,
   "metadata": {
    "collapsed": false
   },
   "outputs": [
    {
     "data": {
      "text/plain": [
       "array([[  0.,   2.,   7.,  10.,  17.,  22.],\n",
       "       [  0.,   0.,   5.,   8.,  15.,  20.],\n",
       "       [  0.,   0.,   0.,   3.,  10.,  15.],\n",
       "       [  0.,   0.,   0.,   0.,   7.,  12.],\n",
       "       [  0.,   0.,   0.,   0.,   0.,   5.],\n",
       "       [  0.,   0.,   0.,   0.,   0.,   0.]])"
      ]
     },
     "execution_count": 5,
     "metadata": {},
     "output_type": "execute_result"
    }
   ],
   "source": [
    "def fill_ST(N):\n",
    "    for i in range(N+1):\n",
    "        for j in range(N+1):\n",
    "            pass\n",
    "    \n",
    "fill_ST(N)\n",
    "ST"
   ]
  },
  {
   "cell_type": "markdown",
   "metadata": {},
   "source": [
    "### Exercise\n",
    "\n",
    "Write a function `P2` that uses the `ST` table rather than the `S` function."
   ]
  },
  {
   "cell_type": "code",
   "execution_count": 6,
   "metadata": {
    "collapsed": false
   },
   "outputs": [
    {
     "name": "stdout",
     "output_type": "stream",
     "text": [
      "12.0 should be 12\n",
      "10.0 should be 10\n",
      "7.0 should be 7\n"
     ]
    }
   ],
   "source": [
    "def P2(n, k):\n",
    "    pass\n",
    "\n",
    "print(P2(N,2), \"should be 12\")\n",
    "print(P2(N,3), \"should be 10\")\n",
    "print(P2(N,4), \"should be 7\")"
   ]
  },
  {
   "cell_type": "markdown",
   "metadata": {},
   "source": [
    "We can compare the running time of the two:"
   ]
  },
  {
   "cell_type": "code",
   "execution_count": 7,
   "metadata": {
    "collapsed": false
   },
   "outputs": [
    {
     "name": "stdout",
     "output_type": "stream",
     "text": [
      "46.5 µs ± 1.24 µs per loop (mean ± std. dev. of 7 runs, 10000 loops each)\n",
      "18.8 µs ± 50.6 ns per loop (mean ± std. dev. of 7 runs, 100000 loops each)\n"
     ]
    }
   ],
   "source": [
    "%timeit P(N, 3)\n",
    "%timeit P2(N, 3)"
   ]
  },
  {
   "cell_type": "markdown",
   "metadata": {},
   "source": [
    "For larger arrays, and more partitions, the difference should grow"
   ]
  },
  {
   "cell_type": "code",
   "execution_count": 8,
   "metadata": {
    "collapsed": false
   },
   "outputs": [
    {
     "name": "stdout",
     "output_type": "stream",
     "text": [
      "2.22 ms ± 2.63 µs per loop (mean ± std. dev. of 7 runs, 100 loops each)\n",
      "919 µs ± 5.69 µs per loop (mean ± std. dev. of 7 runs, 1000 loops each)\n"
     ]
    }
   ],
   "source": [
    "N = 10\n",
    "x = list(range(N))\n",
    "\n",
    "ST = np.zeros((N+1, N+1))\n",
    "fill_ST(N)\n",
    "\n",
    "K = 5\n",
    "%timeit P(N, K)\n",
    "%timeit P2(N, K)"
   ]
  },
  {
   "cell_type": "markdown",
   "metadata": {},
   "source": [
    "## Building `ST` faster\n",
    "\n",
    "Filling in all elements in `ST` takes time $O(N^3)$. Can you see why?\n",
    "\n",
    "We can do slightly better. If we define $CT$ to be the cumulative sum of `x`\n",
    "\n",
    "$$CT(n) = \\sum_{i=0}^{n-1} x[i]$$\n",
    "\n",
    "we see that $S(i,j) = CT(j)-CT(i)$. So we can build this sum and store it in a table. This makes it faster to compute what should be in each cell in `ST` than it would be to compute the sum for all pairs `i` and `j`.\n",
    "\n",
    "The `numpy` package has a function for computing the cumulative sum, so we can compute `CT` like this:"
   ]
  },
  {
   "cell_type": "code",
   "execution_count": 9,
   "metadata": {
    "collapsed": false
   },
   "outputs": [
    {
     "data": {
      "text/plain": [
       "array([ 0,  1,  3,  6, 10, 15, 21, 28, 36, 45])"
      ]
     },
     "execution_count": 9,
     "metadata": {},
     "output_type": "execute_result"
    }
   ],
   "source": [
    "np.cumsum(x)"
   ]
  },
  {
   "cell_type": "markdown",
   "metadata": {},
   "source": [
    "This is almost the table we want, but it contains the values up to *and including* index $n$. We want it to not include $n$, so we need to put a zero in front of it. We can get `CT` like this:"
   ]
  },
  {
   "cell_type": "code",
   "execution_count": 10,
   "metadata": {
    "collapsed": false
   },
   "outputs": [
    {
     "data": {
      "text/plain": [
       "array([  0.,   0.,   1.,   3.,   6.,  10.,  15.,  21.,  28.,  36.,  45.])"
      ]
     },
     "execution_count": 10,
     "metadata": {},
     "output_type": "execute_result"
    }
   ],
   "source": [
    "CT = np.zeros(N+1)\n",
    "CT[1:] = np.cumsum(x)\n",
    "CT"
   ]
  },
  {
   "cell_type": "markdown",
   "metadata": {},
   "source": [
    "I realise that this looks a bit like magic, but it builds a one-dimensional table -- notice that we don't give `zeros` a tuple but a single number -- and it assigns the values from $1$ and up the result of calling `cumsum`."
   ]
  },
  {
   "cell_type": "markdown",
   "metadata": {},
   "source": [
    "### Exercise\n",
    "\n",
    "Write a function, `fill_ST2`, that uses the `CT` table to fill the `ST` table."
   ]
  },
  {
   "cell_type": "code",
   "execution_count": 11,
   "metadata": {
    "collapsed": false
   },
   "outputs": [],
   "source": [
    "def fill_ST2(N):\n",
    "    for i in range(N):\n",
    "        for j in range(N+1):\n",
    "            pass"
   ]
  },
  {
   "cell_type": "markdown",
   "metadata": {},
   "source": [
    "The `fill_ST` and `fill_ST2` functions should create the same tables"
   ]
  },
  {
   "cell_type": "code",
   "execution_count": 12,
   "metadata": {
    "collapsed": false
   },
   "outputs": [
    {
     "name": "stdout",
     "output_type": "stream",
     "text": [
      "[[  0.   0.   1.   3.   6.  10.  15.  21.  28.  36.  45.]\n",
      " [  0.   0.   1.   3.   6.  10.  15.  21.  28.  36.  45.]\n",
      " [  0.   0.   0.   2.   5.   9.  14.  20.  27.  35.  44.]\n",
      " [  0.   0.   0.   0.   3.   7.  12.  18.  25.  33.  42.]\n",
      " [  0.   0.   0.   0.   0.   4.   9.  15.  22.  30.  39.]\n",
      " [  0.   0.   0.   0.   0.   0.   5.  11.  18.  26.  35.]\n",
      " [  0.   0.   0.   0.   0.   0.   0.   6.  13.  21.  30.]\n",
      " [  0.   0.   0.   0.   0.   0.   0.   0.   7.  15.  24.]\n",
      " [  0.   0.   0.   0.   0.   0.   0.   0.   0.   8.  17.]\n",
      " [  0.   0.   0.   0.   0.   0.   0.   0.   0.   0.   9.]\n",
      " [  0.   0.   0.   0.   0.   0.   0.   0.   0.   0.   0.]]\n",
      "[[  0.   0.   1.   3.   6.  10.  15.  21.  28.  36.  45.]\n",
      " [  0.   0.   1.   3.   6.  10.  15.  21.  28.  36.  45.]\n",
      " [ -1.  -1.   0.   2.   5.   9.  14.  20.  27.  35.  44.]\n",
      " [ -3.  -3.  -2.   0.   3.   7.  12.  18.  25.  33.  42.]\n",
      " [ -6.  -6.  -5.  -3.   0.   4.   9.  15.  22.  30.  39.]\n",
      " [-10. -10.  -9.  -7.  -4.   0.   5.  11.  18.  26.  35.]\n",
      " [-15. -15. -14. -12.  -9.  -5.   0.   6.  13.  21.  30.]\n",
      " [-21. -21. -20. -18. -15. -11.  -6.   0.   7.  15.  24.]\n",
      " [-28. -28. -27. -25. -22. -18. -13.  -7.   0.   8.  17.]\n",
      " [-36. -36. -35. -33. -30. -26. -21. -15.  -8.   0.   9.]\n",
      " [  0.   0.   0.   0.   0.   0.   0.   0.   0.   0.   0.]]\n"
     ]
    }
   ],
   "source": [
    "fill_ST(N)\n",
    "print(ST)\n",
    "\n",
    "fill_ST2(N)\n",
    "print(ST)"
   ]
  },
  {
   "cell_type": "markdown",
   "metadata": {},
   "source": [
    "Their running time should be different, though. While `fill_ST(N)` runs in time $O(N^3)$, `fill_ST2(N)` runs in time $O(N^2)$."
   ]
  },
  {
   "cell_type": "code",
   "execution_count": 13,
   "metadata": {
    "collapsed": false
   },
   "outputs": [
    {
     "name": "stdout",
     "output_type": "stream",
     "text": [
      "98.9 µs ± 440 ns per loop (mean ± std. dev. of 7 runs, 10000 loops each)\n",
      "35.4 µs ± 484 ns per loop (mean ± std. dev. of 7 runs, 10000 loops each)\n"
     ]
    }
   ],
   "source": [
    "%timeit fill_ST(N)\n",
    "%timeit fill_ST2(N)"
   ]
  },
  {
   "cell_type": "markdown",
   "metadata": {},
   "source": [
    "## Computing the best partitioning using dynamic programming\n",
    "\n",
    "Using a table for the `ST` values speeds up the computations because we do not have to recompute sums of contiguous elements repeatedly, but in the recursion we compute the cost of the same partitionings again and again.\n",
    "\n",
    "We can improve the running time using dynamic programming. Instead of computing $P(N,K)$ recursively, we can fill out a table, `PT`, starting with the basic cases and then build from those, until we can read out the desired value in entry `PT[N,K]`."
   ]
  },
  {
   "cell_type": "code",
   "execution_count": 14,
   "metadata": {
    "collapsed": true
   },
   "outputs": [],
   "source": [
    "def P3(n, k):\n",
    "    PT = np.zeros((n+1,k+1))\n",
    "    #fill out the PT table\n",
    "    return PT[n, k]"
   ]
  },
  {
   "cell_type": "markdown",
   "metadata": {},
   "source": [
    "The dynamic programming algorithm should give the same results as the other algorithms"
   ]
  },
  {
   "cell_type": "code",
   "execution_count": 15,
   "metadata": {
    "collapsed": false
   },
   "outputs": [
    {
     "name": "stdout",
     "output_type": "stream",
     "text": [
      "45 45.0 45.0\n",
      "24 24.0 24.0\n",
      "17 17.0 17.0\n",
      "15 15.0 15.0\n"
     ]
    }
   ],
   "source": [
    "for k in range(1, 5):\n",
    "    print(P(N,k), P2(N,k), P3(N,k))"
   ]
  },
  {
   "cell_type": "markdown",
   "metadata": {},
   "source": [
    "Their running time will be different, though"
   ]
  },
  {
   "cell_type": "code",
   "execution_count": 16,
   "metadata": {
    "collapsed": false
   },
   "outputs": [
    {
     "name": "stdout",
     "output_type": "stream",
     "text": [
      "636 µs ± 1.77 µs per loop (mean ± std. dev. of 7 runs, 1000 loops each)\n",
      "244 µs ± 4.35 µs per loop (mean ± std. dev. of 7 runs, 1000 loops each)\n",
      "109 µs ± 400 ns per loop (mean ± std. dev. of 7 runs, 10000 loops each)\n"
     ]
    }
   ],
   "source": [
    "K = 4\n",
    "%timeit P(N,K)\n",
    "%timeit P2(N,K)\n",
    "%timeit P3(N,K)"
   ]
  },
  {
   "cell_type": "code",
   "execution_count": null,
   "metadata": {
    "collapsed": true
   },
   "outputs": [],
   "source": []
  }
 ],
 "metadata": {
  "anaconda-cloud": {},
  "kernelspec": {
   "display_name": "Python [Py35]",
   "language": "python",
   "name": "Python [Py35]"
  },
  "language_info": {
   "codemirror_mode": {
    "name": "ipython",
    "version": 3
   },
   "file_extension": ".py",
   "mimetype": "text/x-python",
   "name": "python",
   "nbconvert_exporter": "python",
   "pygments_lexer": "ipython3",
   "version": "3.5.2"
  }
 },
 "nbformat": 4,
 "nbformat_minor": 0
}
